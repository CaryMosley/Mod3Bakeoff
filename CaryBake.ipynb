{
 "cells": [
  {
   "cell_type": "markdown",
   "metadata": {},
   "source": [
    "# Applying Classification Modeling\n",
    "The goal of this week's assessment is to find the model which best predicts whether a person will default on their loan. In doing so, we want to utilize all of the different tools we have learned over the course: data cleaning, EDA, feature engineering/transformation, feature selection, hyperparameter tuning, and model evaluation. \n",
    "\n",
    "Dataset: The dataset comes customers default payments in Taiwan. More information about the dataset and columns are found in the link below.\n",
    "\n",
    "https://archive.ics.uci.edu/ml/datasets/default+of+credit+card+clients#\n",
    "\n",
    "\n",
    "You will fit three different models (KNN, Logistic Regression, and Decision Tree Classifier) and use gridsearch to find the best hyperparameters for those models. Then you will compare the performance of those three models on a test set to find the best one.  \n"
   ]
  },
  {
   "cell_type": "markdown",
   "metadata": {},
   "source": [
    "## Process/Expectations\n",
    "\n",
    "#### You will be working in pairs for this assessment; please have ONE notebook and be prepared to explain how you worked in your pair.\n",
    "1. Clean up your data set so that you can do EDA. This includes handling null values, categorical variables, removing unimportant columns, and removing outliers.\n",
    "2. Perform EDA to identify opportunities to create new features.\n",
    "    - [Great Example of EDA for classification](https://www.kaggle.com/stephaniestallworth/titanic-eda-classification-end-to-end) \n",
    "    - [Using Pairplots with Classification](https://towardsdatascience.com/visualizing-data-with-pair-plots-in-python-f228cf529166)\n",
    "3. Create polynomial and/or interaction features. You must also create at least 2 new features that are not interactions or polynomial transformations. For example, you can create a new dummy variable that based on the value of a continuous variable (billamount6 >2000) or take the average of some past amounts.\n",
    "4. Perform some feature selction. This can happen beforehand using F-scores, or you can do it as part of your model building process by looking at the weights of your regularized logistic regression or feature importance of your decision tree.  \n",
    "5. You must fit each of the three models to your data and tune at least 1 hyperparameter per model. \n",
    "6. After identifying the best hyperparameters for each model, fit those models to the test set and identify the best model overall using the evaluation metric of your choice.\n",
    "7. Present your best model."
   ]
  },
  {
   "cell_type": "code",
   "execution_count": 11,
   "metadata": {},
   "outputs": [],
   "source": [
    "# import libraries\n",
    "import numpy as np\n",
    "import pandas as pd\n",
    "import matplotlib.pyplot as plt\n",
    "%matplotlib inline\n",
    "import sklearn\n",
    "import seaborn as sns\n",
    "import warnings\n",
    "warnings.filterwarnings('once')\n"
   ]
  },
  {
   "cell_type": "markdown",
   "metadata": {},
   "source": [
    "## 1. Data Cleaning"
   ]
  },
  {
   "cell_type": "code",
   "execution_count": 14,
   "metadata": {},
   "outputs": [],
   "source": [
    "#read in the data\n",
    "df = pd.read_csv('student_data.csv')\n",
    "df.rename(columns={\"default payment next month\": \"default\"},inplace = True)"
   ]
  },
  {
   "cell_type": "code",
   "execution_count": 15,
   "metadata": {},
   "outputs": [
    {
     "data": {
      "text/plain": [
       "0    18691\n",
       "1     5308\n",
       "Name: default, dtype: int64"
      ]
     },
     "execution_count": 15,
     "metadata": {},
     "output_type": "execute_result"
    }
   ],
   "source": [
    "#checking the output, 78/22 split so I dont think we have to worry about a class imbalance\n",
    "df['default'].value_counts()"
   ]
  },
  {
   "cell_type": "code",
   "execution_count": 16,
   "metadata": {},
   "outputs": [
    {
     "data": {
      "text/plain": [
       "(23999, 25)"
      ]
     },
     "execution_count": 16,
     "metadata": {},
     "output_type": "execute_result"
    }
   ],
   "source": [
    "df.shape"
   ]
  },
  {
   "cell_type": "code",
   "execution_count": 17,
   "metadata": {},
   "outputs": [
    {
     "data": {
      "text/html": [
       "<div>\n",
       "<style scoped>\n",
       "    .dataframe tbody tr th:only-of-type {\n",
       "        vertical-align: middle;\n",
       "    }\n",
       "\n",
       "    .dataframe tbody tr th {\n",
       "        vertical-align: top;\n",
       "    }\n",
       "\n",
       "    .dataframe thead th {\n",
       "        text-align: right;\n",
       "    }\n",
       "</style>\n",
       "<table border=\"1\" class=\"dataframe\">\n",
       "  <thead>\n",
       "    <tr style=\"text-align: right;\">\n",
       "      <th></th>\n",
       "      <th>ID</th>\n",
       "      <th>LIMIT_BAL</th>\n",
       "      <th>SEX</th>\n",
       "      <th>EDUCATION</th>\n",
       "      <th>MARRIAGE</th>\n",
       "      <th>AGE</th>\n",
       "      <th>PAY_0</th>\n",
       "      <th>PAY_2</th>\n",
       "      <th>PAY_3</th>\n",
       "      <th>PAY_4</th>\n",
       "      <th>...</th>\n",
       "      <th>BILL_AMT4</th>\n",
       "      <th>BILL_AMT5</th>\n",
       "      <th>BILL_AMT6</th>\n",
       "      <th>PAY_AMT1</th>\n",
       "      <th>PAY_AMT2</th>\n",
       "      <th>PAY_AMT3</th>\n",
       "      <th>PAY_AMT4</th>\n",
       "      <th>PAY_AMT5</th>\n",
       "      <th>PAY_AMT6</th>\n",
       "      <th>default</th>\n",
       "    </tr>\n",
       "  </thead>\n",
       "  <tbody>\n",
       "    <tr>\n",
       "      <td>0</td>\n",
       "      <td>2873</td>\n",
       "      <td>350000</td>\n",
       "      <td>1</td>\n",
       "      <td>1</td>\n",
       "      <td>2</td>\n",
       "      <td>37</td>\n",
       "      <td>-2</td>\n",
       "      <td>-2</td>\n",
       "      <td>-2</td>\n",
       "      <td>-2</td>\n",
       "      <td>...</td>\n",
       "      <td>466</td>\n",
       "      <td>466</td>\n",
       "      <td>316</td>\n",
       "      <td>316</td>\n",
       "      <td>316</td>\n",
       "      <td>466</td>\n",
       "      <td>466</td>\n",
       "      <td>316</td>\n",
       "      <td>316</td>\n",
       "      <td>0</td>\n",
       "    </tr>\n",
       "    <tr>\n",
       "      <td>1</td>\n",
       "      <td>3598</td>\n",
       "      <td>50000</td>\n",
       "      <td>2</td>\n",
       "      <td>2</td>\n",
       "      <td>1</td>\n",
       "      <td>37</td>\n",
       "      <td>2</td>\n",
       "      <td>2</td>\n",
       "      <td>2</td>\n",
       "      <td>0</td>\n",
       "      <td>...</td>\n",
       "      <td>13026</td>\n",
       "      <td>13268</td>\n",
       "      <td>13497</td>\n",
       "      <td>5500</td>\n",
       "      <td>0</td>\n",
       "      <td>580</td>\n",
       "      <td>600</td>\n",
       "      <td>600</td>\n",
       "      <td>600</td>\n",
       "      <td>0</td>\n",
       "    </tr>\n",
       "    <tr>\n",
       "      <td>2</td>\n",
       "      <td>27623</td>\n",
       "      <td>50000</td>\n",
       "      <td>2</td>\n",
       "      <td>1</td>\n",
       "      <td>2</td>\n",
       "      <td>23</td>\n",
       "      <td>-1</td>\n",
       "      <td>-1</td>\n",
       "      <td>-1</td>\n",
       "      <td>-1</td>\n",
       "      <td>...</td>\n",
       "      <td>4800</td>\n",
       "      <td>9810</td>\n",
       "      <td>660</td>\n",
       "      <td>2548</td>\n",
       "      <td>2321</td>\n",
       "      <td>4800</td>\n",
       "      <td>9810</td>\n",
       "      <td>660</td>\n",
       "      <td>2980</td>\n",
       "      <td>0</td>\n",
       "    </tr>\n",
       "    <tr>\n",
       "      <td>3</td>\n",
       "      <td>6874</td>\n",
       "      <td>20000</td>\n",
       "      <td>1</td>\n",
       "      <td>3</td>\n",
       "      <td>1</td>\n",
       "      <td>56</td>\n",
       "      <td>0</td>\n",
       "      <td>0</td>\n",
       "      <td>0</td>\n",
       "      <td>0</td>\n",
       "      <td>...</td>\n",
       "      <td>13784</td>\n",
       "      <td>13420</td>\n",
       "      <td>13686</td>\n",
       "      <td>1508</td>\n",
       "      <td>1216</td>\n",
       "      <td>1116</td>\n",
       "      <td>0</td>\n",
       "      <td>490</td>\n",
       "      <td>658</td>\n",
       "      <td>0</td>\n",
       "    </tr>\n",
       "    <tr>\n",
       "      <td>4</td>\n",
       "      <td>6444</td>\n",
       "      <td>110000</td>\n",
       "      <td>2</td>\n",
       "      <td>2</td>\n",
       "      <td>2</td>\n",
       "      <td>32</td>\n",
       "      <td>0</td>\n",
       "      <td>0</td>\n",
       "      <td>0</td>\n",
       "      <td>0</td>\n",
       "      <td>...</td>\n",
       "      <td>108829</td>\n",
       "      <td>110557</td>\n",
       "      <td>106082</td>\n",
       "      <td>5400</td>\n",
       "      <td>5400</td>\n",
       "      <td>4100</td>\n",
       "      <td>4100</td>\n",
       "      <td>4100</td>\n",
       "      <td>4200</td>\n",
       "      <td>0</td>\n",
       "    </tr>\n",
       "  </tbody>\n",
       "</table>\n",
       "<p>5 rows × 25 columns</p>\n",
       "</div>"
      ],
      "text/plain": [
       "      ID  LIMIT_BAL  SEX  EDUCATION  MARRIAGE  AGE  PAY_0  PAY_2  PAY_3  \\\n",
       "0   2873     350000    1          1         2   37     -2     -2     -2   \n",
       "1   3598      50000    2          2         1   37      2      2      2   \n",
       "2  27623      50000    2          1         2   23     -1     -1     -1   \n",
       "3   6874      20000    1          3         1   56      0      0      0   \n",
       "4   6444     110000    2          2         2   32      0      0      0   \n",
       "\n",
       "   PAY_4  ...  BILL_AMT4  BILL_AMT5  BILL_AMT6  PAY_AMT1  PAY_AMT2  PAY_AMT3  \\\n",
       "0     -2  ...        466        466        316       316       316       466   \n",
       "1      0  ...      13026      13268      13497      5500         0       580   \n",
       "2     -1  ...       4800       9810        660      2548      2321      4800   \n",
       "3      0  ...      13784      13420      13686      1508      1216      1116   \n",
       "4      0  ...     108829     110557     106082      5400      5400      4100   \n",
       "\n",
       "   PAY_AMT4  PAY_AMT5  PAY_AMT6  default  \n",
       "0       466       316       316        0  \n",
       "1       600       600       600        0  \n",
       "2      9810       660      2980        0  \n",
       "3         0       490       658        0  \n",
       "4      4100      4100      4200        0  \n",
       "\n",
       "[5 rows x 25 columns]"
      ]
     },
     "execution_count": 17,
     "metadata": {},
     "output_type": "execute_result"
    }
   ],
   "source": [
    "df.head()"
   ]
  },
  {
   "cell_type": "code",
   "execution_count": 7,
   "metadata": {},
   "outputs": [
    {
     "data": {
      "text/plain": [
       "ID                            0\n",
       "LIMIT_BAL                     0\n",
       "SEX                           0\n",
       "EDUCATION                     0\n",
       "MARRIAGE                      0\n",
       "AGE                           0\n",
       "PAY_0                         0\n",
       "PAY_2                         0\n",
       "PAY_3                         0\n",
       "PAY_4                         0\n",
       "PAY_5                         0\n",
       "PAY_6                         0\n",
       "BILL_AMT1                     0\n",
       "BILL_AMT2                     0\n",
       "BILL_AMT3                     0\n",
       "BILL_AMT4                     0\n",
       "BILL_AMT5                     0\n",
       "BILL_AMT6                     0\n",
       "PAY_AMT1                      0\n",
       "PAY_AMT2                      0\n",
       "PAY_AMT3                      0\n",
       "PAY_AMT4                      0\n",
       "PAY_AMT5                      0\n",
       "PAY_AMT6                      0\n",
       "default payment next month    0\n",
       "dtype: int64"
      ]
     },
     "execution_count": 7,
     "metadata": {},
     "output_type": "execute_result"
    }
   ],
   "source": [
    "#No null values! Will look at the stats next\n",
    "df.isnull().sum()"
   ]
  },
  {
   "cell_type": "code",
   "execution_count": 8,
   "metadata": {},
   "outputs": [],
   "source": [
    "#Dropping ID since we don't need to index them additionally\n",
    "df = df.drop(columns = ['ID'],axis=1)"
   ]
  },
  {
   "cell_type": "code",
   "execution_count": 19,
   "metadata": {},
   "outputs": [
    {
     "name": "stdout",
     "output_type": "stream",
     "text": [
      "Target Variable\n",
      "default\n",
      "0    18691\n",
      "1     5308\n",
      "Name: default, dtype: int64\n"
     ]
    },
    {
     "data": {
      "image/png": "[encoded data removed]",
      "text/plain": [
       "<Figure size 720x360 with 1 Axes>"
      ]
     },
     "metadata": {},
     "output_type": "display_data"
    }
   ],
   "source": [
    "# Default Count\n",
    "print('Target Variable')\n",
    "print(df.groupby(['default']).default.count())\n",
    "\n",
    "# Target Variable Countplot\n",
    "sns.set_style('darkgrid')\n",
    "plt.figure(figsize = (10,5))\n",
    "sns.countplot(df['default'], alpha =.80, palette= ['grey','lightgreen'])\n",
    "plt.title('Defaults vs Non-Defaults')\n",
    "plt.ylabel('# People')\n",
    "plt.show()"
   ]
  },
  {
   "cell_type": "code",
   "execution_count": 20,
   "metadata": {},
   "outputs": [
    {
     "name": "stdout",
     "output_type": "stream",
     "text": [
      "Continuous Variables\n",
      "             count           mean            std       min      25%       50%  \\\n",
      "LIMIT_BAL  23999.0  167825.729405  129915.115993   10000.0  50000.0  140000.0   \n",
      "AGE        23999.0      35.523230       9.253986      21.0     28.0      34.0   \n",
      "BILL_AMT1  23999.0   51589.034710   74104.132627 -165580.0   3577.5   22472.0   \n",
      "BILL_AMT2  23999.0   49521.698112   71551.215125  -67526.0   2958.0   21290.0   \n",
      "BILL_AMT3  23999.0   47474.826368   70010.815328 -157264.0   2718.0   20223.0   \n",
      "BILL_AMT4  23999.0   43796.589775   64927.450125 -170000.0   2392.5   19145.0   \n",
      "BILL_AMT5  23999.0   40748.049169   61257.537699  -81334.0   1801.0   18227.0   \n",
      "BILL_AMT6  23999.0   39226.852411   60075.536736 -339603.0   1280.0   17175.0   \n",
      "PAY_AMT1   23999.0    5687.720113   16698.506577       0.0   1000.0    2110.0   \n",
      "PAY_AMT2   23999.0    6019.571357   24541.362830       0.0    858.5    2012.0   \n",
      "PAY_AMT3   23999.0    5253.322805   17967.028860       0.0    395.0    1809.0   \n",
      "PAY_AMT4   23999.0    4824.490687   15730.753527       0.0    300.0    1500.0   \n",
      "PAY_AMT5   23999.0    4825.033793   15596.580167       0.0    269.5    1500.0   \n",
      "PAY_AMT6   23999.0    5245.642943   17795.775322       0.0    125.0    1500.0   \n",
      "\n",
      "                75%        max  \n",
      "LIMIT_BAL  240000.0  1000000.0  \n",
      "AGE            42.0       79.0  \n",
      "BILL_AMT1   67767.0   964511.0  \n",
      "BILL_AMT2   64635.5   983931.0  \n",
      "BILL_AMT3   60962.0  1664089.0  \n",
      "BILL_AMT4   55418.0   891586.0  \n",
      "BILL_AMT5   50581.0   927171.0  \n",
      "BILL_AMT6   49434.5   961664.0  \n",
      "PAY_AMT1     5020.0   873552.0  \n",
      "PAY_AMT2     5000.0  1684259.0  \n",
      "PAY_AMT3     4561.0   896040.0  \n",
      "PAY_AMT4     4089.0   621000.0  \n",
      "PAY_AMT5     4029.5   426529.0  \n",
      "PAY_AMT6     4008.0   528666.0  \n",
      "--------------------------------------------------------------------------------\n",
      "Discrete Variables\n",
      "SEX\n",
      "1     9513\n",
      "2    14486\n",
      "Name: SEX, dtype: int64\n",
      "EDUCATION\n",
      "0       11\n",
      "1     8442\n",
      "2    11188\n",
      "3     3994\n",
      "4      100\n",
      "5      223\n",
      "6       41\n",
      "Name: EDUCATION, dtype: int64\n",
      "MARRIAGE\n",
      "0       43\n",
      "1    10958\n",
      "2    12735\n",
      "3      263\n",
      "Name: MARRIAGE, dtype: int64\n"
     ]
    },
    {
     "data": {
      "image/png": "[encoded data removed]",
      "text/plain": [
       "<Figure size 1440x1152 with 3 Axes>"
      ]
     },
     "metadata": {},
     "output_type": "display_data"
    }
   ],
   "source": [
    "# Identify numeric features\n",
    "print('Continuous Variables')\n",
    "print(df[['LIMIT_BAL','AGE','BILL_AMT1','BILL_AMT2','BILL_AMT3','BILL_AMT4','BILL_AMT5','BILL_AMT6','PAY_AMT1'\n",
    "         ,'PAY_AMT2','PAY_AMT3','PAY_AMT4','PAY_AMT5','PAY_AMT6']].describe().transpose())\n",
    "print('--'*40)\n",
    "print('Discrete Variables')\n",
    "print(df.groupby('SEX').SEX.count())\n",
    "print(df.groupby('EDUCATION').EDUCATION.count())\n",
    "print(df.groupby('MARRIAGE').MARRIAGE.count())\n",
    "\n",
    "   \n",
    "# Subplots of Numeric Features\n",
    "sns.set_style('darkgrid')\n",
    "fig = plt.figure(figsize = (20,16))\n",
    "fig.subplots_adjust(hspace = .30)\n",
    "\n",
    "ax1 = fig.add_subplot(321)\n",
    "ax1.hist(df['SEX'], bins = 20, alpha = .50,edgecolor= 'black',color ='teal')\n",
    "ax1.set_xlabel('Sex', fontsize = 15)\n",
    "ax1.set_ylabel('# People',fontsize = 15)\n",
    "ax1.set_title('Sex',fontsize = 15)\n",
    "\n",
    "ax2 = fig.add_subplot(323)\n",
    "ax2.hist(df['EDUCATION'], bins = 20, alpha = .50,edgecolor= 'black',color ='teal')\n",
    "ax2.set_xlabel('Education',fontsize = 15)\n",
    "ax2.set_ylabel('# People',fontsize = 15)\n",
    "ax2.set_title('Education of People',fontsize = 15)\n",
    "\n",
    "ax3 = fig.add_subplot(325)\n",
    "ax3.hist(df['MARRIAGE'], bins = 20, alpha = .50,edgecolor= 'black',color ='teal')\n",
    "ax3.set_xlabel('Marriage',fontsize = 15)\n",
    "ax3.set_ylabel('# People',fontsize = 15)\n",
    "ax3.set_title('Marital Status',fontsize = 15)\n",
    "\n",
    "\n",
    "\n",
    "plt.show()"
   ]
  },
  {
   "cell_type": "code",
   "execution_count": null,
   "metadata": {},
   "outputs": [],
   "source": []
  },
  {
   "cell_type": "code",
   "execution_count": null,
   "metadata": {},
   "outputs": [],
   "source": []
  },
  {
   "cell_type": "code",
   "execution_count": null,
   "metadata": {},
   "outputs": [],
   "source": []
  },
  {
   "cell_type": "code",
   "execution_count": null,
   "metadata": {},
   "outputs": [],
   "source": []
  },
  {
   "cell_type": "code",
   "execution_count": null,
   "metadata": {},
   "outputs": [],
   "source": []
  },
  {
   "cell_type": "code",
   "execution_count": null,
   "metadata": {},
   "outputs": [],
   "source": []
  },
  {
   "cell_type": "code",
   "execution_count": null,
   "metadata": {},
   "outputs": [],
   "source": []
  },
  {
   "cell_type": "code",
   "execution_count": null,
   "metadata": {},
   "outputs": [],
   "source": []
  },
  {
   "cell_type": "code",
   "execution_count": 14,
   "metadata": {},
   "outputs": [
    {
     "data": {
      "text/html": [
       "<div>\n",
       "<style scoped>\n",
       "    .dataframe tbody tr th:only-of-type {\n",
       "        vertical-align: middle;\n",
       "    }\n",
       "\n",
       "    .dataframe tbody tr th {\n",
       "        vertical-align: top;\n",
       "    }\n",
       "\n",
       "    .dataframe thead th {\n",
       "        text-align: right;\n",
       "    }\n",
       "</style>\n",
       "<table border=\"1\" class=\"dataframe\">\n",
       "  <thead>\n",
       "    <tr style=\"text-align: right;\">\n",
       "      <th></th>\n",
       "      <th>LIMIT_BAL</th>\n",
       "      <th>SEX</th>\n",
       "      <th>EDUCATION</th>\n",
       "      <th>MARRIAGE</th>\n",
       "      <th>AGE</th>\n",
       "      <th>PAY_0</th>\n",
       "      <th>PAY_2</th>\n",
       "      <th>PAY_3</th>\n",
       "      <th>PAY_4</th>\n",
       "      <th>PAY_5</th>\n",
       "      <th>...</th>\n",
       "      <th>BILL_AMT4</th>\n",
       "      <th>BILL_AMT5</th>\n",
       "      <th>BILL_AMT6</th>\n",
       "      <th>PAY_AMT1</th>\n",
       "      <th>PAY_AMT2</th>\n",
       "      <th>PAY_AMT3</th>\n",
       "      <th>PAY_AMT4</th>\n",
       "      <th>PAY_AMT5</th>\n",
       "      <th>PAY_AMT6</th>\n",
       "      <th>default payment next month</th>\n",
       "    </tr>\n",
       "  </thead>\n",
       "  <tbody>\n",
       "    <tr>\n",
       "      <td>count</td>\n",
       "      <td>23999.000000</td>\n",
       "      <td>23999.000000</td>\n",
       "      <td>23999.000000</td>\n",
       "      <td>23999.000000</td>\n",
       "      <td>23999.000000</td>\n",
       "      <td>23999.000000</td>\n",
       "      <td>23999.000000</td>\n",
       "      <td>23999.000000</td>\n",
       "      <td>23999.000000</td>\n",
       "      <td>23999.000000</td>\n",
       "      <td>...</td>\n",
       "      <td>23999.000000</td>\n",
       "      <td>23999.000000</td>\n",
       "      <td>23999.000000</td>\n",
       "      <td>23999.000000</td>\n",
       "      <td>2.399900e+04</td>\n",
       "      <td>23999.000000</td>\n",
       "      <td>23999.000000</td>\n",
       "      <td>23999.000000</td>\n",
       "      <td>23999.000000</td>\n",
       "      <td>23999.000000</td>\n",
       "    </tr>\n",
       "    <tr>\n",
       "      <td>mean</td>\n",
       "      <td>167825.729405</td>\n",
       "      <td>1.603608</td>\n",
       "      <td>1.856786</td>\n",
       "      <td>1.550773</td>\n",
       "      <td>35.523230</td>\n",
       "      <td>-0.014959</td>\n",
       "      <td>-0.134839</td>\n",
       "      <td>-0.165632</td>\n",
       "      <td>-0.217092</td>\n",
       "      <td>-0.261344</td>\n",
       "      <td>...</td>\n",
       "      <td>43796.589775</td>\n",
       "      <td>40748.049169</td>\n",
       "      <td>39226.852411</td>\n",
       "      <td>5687.720113</td>\n",
       "      <td>6.019571e+03</td>\n",
       "      <td>5253.322805</td>\n",
       "      <td>4824.490687</td>\n",
       "      <td>4825.033793</td>\n",
       "      <td>5245.642943</td>\n",
       "      <td>0.221176</td>\n",
       "    </tr>\n",
       "    <tr>\n",
       "      <td>std</td>\n",
       "      <td>129915.115993</td>\n",
       "      <td>0.489158</td>\n",
       "      <td>0.791939</td>\n",
       "      <td>0.522431</td>\n",
       "      <td>9.253986</td>\n",
       "      <td>1.120903</td>\n",
       "      <td>1.193044</td>\n",
       "      <td>1.193515</td>\n",
       "      <td>1.168719</td>\n",
       "      <td>1.133016</td>\n",
       "      <td>...</td>\n",
       "      <td>64927.450125</td>\n",
       "      <td>61257.537699</td>\n",
       "      <td>60075.536736</td>\n",
       "      <td>16698.506577</td>\n",
       "      <td>2.454136e+04</td>\n",
       "      <td>17967.028860</td>\n",
       "      <td>15730.753527</td>\n",
       "      <td>15596.580167</td>\n",
       "      <td>17795.775322</td>\n",
       "      <td>0.415047</td>\n",
       "    </tr>\n",
       "    <tr>\n",
       "      <td>min</td>\n",
       "      <td>10000.000000</td>\n",
       "      <td>1.000000</td>\n",
       "      <td>0.000000</td>\n",
       "      <td>0.000000</td>\n",
       "      <td>21.000000</td>\n",
       "      <td>-2.000000</td>\n",
       "      <td>-2.000000</td>\n",
       "      <td>-2.000000</td>\n",
       "      <td>-2.000000</td>\n",
       "      <td>-2.000000</td>\n",
       "      <td>...</td>\n",
       "      <td>-170000.000000</td>\n",
       "      <td>-81334.000000</td>\n",
       "      <td>-339603.000000</td>\n",
       "      <td>0.000000</td>\n",
       "      <td>0.000000e+00</td>\n",
       "      <td>0.000000</td>\n",
       "      <td>0.000000</td>\n",
       "      <td>0.000000</td>\n",
       "      <td>0.000000</td>\n",
       "      <td>0.000000</td>\n",
       "    </tr>\n",
       "    <tr>\n",
       "      <td>25%</td>\n",
       "      <td>50000.000000</td>\n",
       "      <td>1.000000</td>\n",
       "      <td>1.000000</td>\n",
       "      <td>1.000000</td>\n",
       "      <td>28.000000</td>\n",
       "      <td>-1.000000</td>\n",
       "      <td>-1.000000</td>\n",
       "      <td>-1.000000</td>\n",
       "      <td>-1.000000</td>\n",
       "      <td>-1.000000</td>\n",
       "      <td>...</td>\n",
       "      <td>2392.500000</td>\n",
       "      <td>1801.000000</td>\n",
       "      <td>1280.000000</td>\n",
       "      <td>1000.000000</td>\n",
       "      <td>8.585000e+02</td>\n",
       "      <td>395.000000</td>\n",
       "      <td>300.000000</td>\n",
       "      <td>269.500000</td>\n",
       "      <td>125.000000</td>\n",
       "      <td>0.000000</td>\n",
       "    </tr>\n",
       "    <tr>\n",
       "      <td>50%</td>\n",
       "      <td>140000.000000</td>\n",
       "      <td>2.000000</td>\n",
       "      <td>2.000000</td>\n",
       "      <td>2.000000</td>\n",
       "      <td>34.000000</td>\n",
       "      <td>0.000000</td>\n",
       "      <td>0.000000</td>\n",
       "      <td>0.000000</td>\n",
       "      <td>0.000000</td>\n",
       "      <td>0.000000</td>\n",
       "      <td>...</td>\n",
       "      <td>19145.000000</td>\n",
       "      <td>18227.000000</td>\n",
       "      <td>17175.000000</td>\n",
       "      <td>2110.000000</td>\n",
       "      <td>2.012000e+03</td>\n",
       "      <td>1809.000000</td>\n",
       "      <td>1500.000000</td>\n",
       "      <td>1500.000000</td>\n",
       "      <td>1500.000000</td>\n",
       "      <td>0.000000</td>\n",
       "    </tr>\n",
       "    <tr>\n",
       "      <td>75%</td>\n",
       "      <td>240000.000000</td>\n",
       "      <td>2.000000</td>\n",
       "      <td>2.000000</td>\n",
       "      <td>2.000000</td>\n",
       "      <td>42.000000</td>\n",
       "      <td>0.000000</td>\n",
       "      <td>0.000000</td>\n",
       "      <td>0.000000</td>\n",
       "      <td>0.000000</td>\n",
       "      <td>0.000000</td>\n",
       "      <td>...</td>\n",
       "      <td>55418.000000</td>\n",
       "      <td>50581.000000</td>\n",
       "      <td>49434.500000</td>\n",
       "      <td>5020.000000</td>\n",
       "      <td>5.000000e+03</td>\n",
       "      <td>4561.000000</td>\n",
       "      <td>4089.000000</td>\n",
       "      <td>4029.500000</td>\n",
       "      <td>4008.000000</td>\n",
       "      <td>0.000000</td>\n",
       "    </tr>\n",
       "    <tr>\n",
       "      <td>max</td>\n",
       "      <td>1000000.000000</td>\n",
       "      <td>2.000000</td>\n",
       "      <td>6.000000</td>\n",
       "      <td>3.000000</td>\n",
       "      <td>79.000000</td>\n",
       "      <td>8.000000</td>\n",
       "      <td>8.000000</td>\n",
       "      <td>8.000000</td>\n",
       "      <td>8.000000</td>\n",
       "      <td>8.000000</td>\n",
       "      <td>...</td>\n",
       "      <td>891586.000000</td>\n",
       "      <td>927171.000000</td>\n",
       "      <td>961664.000000</td>\n",
       "      <td>873552.000000</td>\n",
       "      <td>1.684259e+06</td>\n",
       "      <td>896040.000000</td>\n",
       "      <td>621000.000000</td>\n",
       "      <td>426529.000000</td>\n",
       "      <td>528666.000000</td>\n",
       "      <td>1.000000</td>\n",
       "    </tr>\n",
       "  </tbody>\n",
       "</table>\n",
       "<p>8 rows × 24 columns</p>\n",
       "</div>"
      ],
      "text/plain": [
       "            LIMIT_BAL           SEX     EDUCATION      MARRIAGE           AGE  \\\n",
       "count    23999.000000  23999.000000  23999.000000  23999.000000  23999.000000   \n",
       "mean    167825.729405      1.603608      1.856786      1.550773     35.523230   \n",
       "std     129915.115993      0.489158      0.791939      0.522431      9.253986   \n",
       "min      10000.000000      1.000000      0.000000      0.000000     21.000000   \n",
       "25%      50000.000000      1.000000      1.000000      1.000000     28.000000   \n",
       "50%     140000.000000      2.000000      2.000000      2.000000     34.000000   \n",
       "75%     240000.000000      2.000000      2.000000      2.000000     42.000000   \n",
       "max    1000000.000000      2.000000      6.000000      3.000000     79.000000   \n",
       "\n",
       "              PAY_0         PAY_2         PAY_3         PAY_4         PAY_5  \\\n",
       "count  23999.000000  23999.000000  23999.000000  23999.000000  23999.000000   \n",
       "mean      -0.014959     -0.134839     -0.165632     -0.217092     -0.261344   \n",
       "std        1.120903      1.193044      1.193515      1.168719      1.133016   \n",
       "min       -2.000000     -2.000000     -2.000000     -2.000000     -2.000000   \n",
       "25%       -1.000000     -1.000000     -1.000000     -1.000000     -1.000000   \n",
       "50%        0.000000      0.000000      0.000000      0.000000      0.000000   \n",
       "75%        0.000000      0.000000      0.000000      0.000000      0.000000   \n",
       "max        8.000000      8.000000      8.000000      8.000000      8.000000   \n",
       "\n",
       "       ...      BILL_AMT4      BILL_AMT5      BILL_AMT6       PAY_AMT1  \\\n",
       "count  ...   23999.000000   23999.000000   23999.000000   23999.000000   \n",
       "mean   ...   43796.589775   40748.049169   39226.852411    5687.720113   \n",
       "std    ...   64927.450125   61257.537699   60075.536736   16698.506577   \n",
       "min    ... -170000.000000  -81334.000000 -339603.000000       0.000000   \n",
       "25%    ...    2392.500000    1801.000000    1280.000000    1000.000000   \n",
       "50%    ...   19145.000000   18227.000000   17175.000000    2110.000000   \n",
       "75%    ...   55418.000000   50581.000000   49434.500000    5020.000000   \n",
       "max    ...  891586.000000  927171.000000  961664.000000  873552.000000   \n",
       "\n",
       "           PAY_AMT2       PAY_AMT3       PAY_AMT4       PAY_AMT5  \\\n",
       "count  2.399900e+04   23999.000000   23999.000000   23999.000000   \n",
       "mean   6.019571e+03    5253.322805    4824.490687    4825.033793   \n",
       "std    2.454136e+04   17967.028860   15730.753527   15596.580167   \n",
       "min    0.000000e+00       0.000000       0.000000       0.000000   \n",
       "25%    8.585000e+02     395.000000     300.000000     269.500000   \n",
       "50%    2.012000e+03    1809.000000    1500.000000    1500.000000   \n",
       "75%    5.000000e+03    4561.000000    4089.000000    4029.500000   \n",
       "max    1.684259e+06  896040.000000  621000.000000  426529.000000   \n",
       "\n",
       "            PAY_AMT6  default payment next month  \n",
       "count   23999.000000                23999.000000  \n",
       "mean     5245.642943                    0.221176  \n",
       "std     17795.775322                    0.415047  \n",
       "min         0.000000                    0.000000  \n",
       "25%       125.000000                    0.000000  \n",
       "50%      1500.000000                    0.000000  \n",
       "75%      4008.000000                    0.000000  \n",
       "max    528666.000000                    1.000000  \n",
       "\n",
       "[8 rows x 24 columns]"
      ]
     },
     "execution_count": 14,
     "metadata": {},
     "output_type": "execute_result"
    }
   ],
   "source": [
    "df.describe()"
   ]
  },
  {
   "cell_type": "code",
   "execution_count": null,
   "metadata": {},
   "outputs": [],
   "source": []
  },
  {
   "cell_type": "code",
   "execution_count": 39,
   "metadata": {},
   "outputs": [
    {
     "data": {
      "text/plain": [
       "0    14486\n",
       "1     9513\n",
       "Name: SEX, dtype: int64"
      ]
     },
     "execution_count": 39,
     "metadata": {},
     "output_type": "execute_result"
    }
   ],
   "source": [
    "#SEX: Gender (1=male, 2=female)\n",
    "df['SEX'].value_counts()"
   ]
  },
  {
   "cell_type": "code",
   "execution_count": 38,
   "metadata": {},
   "outputs": [
    {
     "data": {
      "text/plain": [
       "0    14486\n",
       "1     9513\n",
       "Name: SEX, dtype: int64"
      ]
     },
     "execution_count": 38,
     "metadata": {},
     "output_type": "execute_result"
    }
   ],
   "source": [
    "#SEX: 0 = female, 1 = male\n",
    "df['SEX']=df['SEX'].apply(lambda x: 0 if x ==2 else x)\n",
    "df['SEX'].value_counts()"
   ]
  },
  {
   "cell_type": "code",
   "execution_count": 26,
   "metadata": {},
   "outputs": [
    {
     "data": {
      "text/plain": [
       "count    23999.000000\n",
       "mean         1.856786\n",
       "std          0.791939\n",
       "min          0.000000\n",
       "25%          1.000000\n",
       "50%          2.000000\n",
       "75%          2.000000\n",
       "max          6.000000\n",
       "Name: EDUCATION, dtype: float64"
      ]
     },
     "execution_count": 26,
     "metadata": {},
     "output_type": "execute_result"
    }
   ],
   "source": [
    "df['EDUCATION'].describe()"
   ]
  },
  {
   "cell_type": "code",
   "execution_count": 31,
   "metadata": {},
   "outputs": [
    {
     "data": {
      "text/plain": [
       "2    11188\n",
       "1     8442\n",
       "3     3994\n",
       "5      223\n",
       "4      100\n",
       "6       41\n",
       "0       11\n",
       "Name: EDUCATION, dtype: int64"
      ]
     },
     "execution_count": 31,
     "metadata": {},
     "output_type": "execute_result"
    }
   ],
   "source": [
    "df['EDUCATION'].value_counts()"
   ]
  },
  {
   "cell_type": "code",
   "execution_count": 36,
   "metadata": {},
   "outputs": [
    {
     "data": {
      "text/plain": [
       "2    11188\n",
       "1     8442\n",
       "3     3994\n",
       "0      375\n",
       "Name: EDUCATION, dtype: int64"
      ]
     },
     "execution_count": 36,
     "metadata": {},
     "output_type": "execute_result"
    }
   ],
   "source": [
    "#Education (1 = graduate school; 2 = university; 3 = high school; 4 = others).\n",
    "#setting 0,4-6 to others\n",
    "df['EDUCATION']=df['EDUCATION'].apply(lambda x: 0 if x >=4 else x)\n",
    "\n",
    "df['EDUCATION'].value_counts()\n",
    "#dummy_edu = pd.get_dummies(df['EDUCATION'], drop_first=True)\n",
    "\n",
    "#dummy_edu.describe()"
   ]
  },
  {
   "cell_type": "code",
   "execution_count": 30,
   "metadata": {},
   "outputs": [
    {
     "data": {
      "text/plain": [
       "2    12735\n",
       "1    10958\n",
       "3      263\n",
       "0       43\n",
       "Name: MARRIAGE, dtype: int64"
      ]
     },
     "execution_count": 30,
     "metadata": {},
     "output_type": "execute_result"
    }
   ],
   "source": [
    "df['MARRIAGE'].value_counts()"
   ]
  },
  {
   "cell_type": "code",
   "execution_count": 37,
   "metadata": {},
   "outputs": [
    {
     "data": {
      "text/html": [
       "<div>\n",
       "<style scoped>\n",
       "    .dataframe tbody tr th:only-of-type {\n",
       "        vertical-align: middle;\n",
       "    }\n",
       "\n",
       "    .dataframe tbody tr th {\n",
       "        vertical-align: top;\n",
       "    }\n",
       "\n",
       "    .dataframe thead th {\n",
       "        text-align: right;\n",
       "    }\n",
       "</style>\n",
       "<table border=\"1\" class=\"dataframe\">\n",
       "  <thead>\n",
       "    <tr style=\"text-align: right;\">\n",
       "      <th></th>\n",
       "      <th>1</th>\n",
       "      <th>2</th>\n",
       "    </tr>\n",
       "  </thead>\n",
       "  <tbody>\n",
       "    <tr>\n",
       "      <td>count</td>\n",
       "      <td>23999.000000</td>\n",
       "      <td>23999.000000</td>\n",
       "    </tr>\n",
       "    <tr>\n",
       "      <td>mean</td>\n",
       "      <td>0.456602</td>\n",
       "      <td>0.530647</td>\n",
       "    </tr>\n",
       "    <tr>\n",
       "      <td>std</td>\n",
       "      <td>0.498123</td>\n",
       "      <td>0.499070</td>\n",
       "    </tr>\n",
       "    <tr>\n",
       "      <td>min</td>\n",
       "      <td>0.000000</td>\n",
       "      <td>0.000000</td>\n",
       "    </tr>\n",
       "    <tr>\n",
       "      <td>25%</td>\n",
       "      <td>0.000000</td>\n",
       "      <td>0.000000</td>\n",
       "    </tr>\n",
       "    <tr>\n",
       "      <td>50%</td>\n",
       "      <td>0.000000</td>\n",
       "      <td>1.000000</td>\n",
       "    </tr>\n",
       "    <tr>\n",
       "      <td>75%</td>\n",
       "      <td>1.000000</td>\n",
       "      <td>1.000000</td>\n",
       "    </tr>\n",
       "    <tr>\n",
       "      <td>max</td>\n",
       "      <td>1.000000</td>\n",
       "      <td>1.000000</td>\n",
       "    </tr>\n",
       "  </tbody>\n",
       "</table>\n",
       "</div>"
      ],
      "text/plain": [
       "                  1             2\n",
       "count  23999.000000  23999.000000\n",
       "mean       0.456602      0.530647\n",
       "std        0.498123      0.499070\n",
       "min        0.000000      0.000000\n",
       "25%        0.000000      0.000000\n",
       "50%        0.000000      1.000000\n",
       "75%        1.000000      1.000000\n",
       "max        1.000000      1.000000"
      ]
     },
     "execution_count": 37,
     "metadata": {},
     "output_type": "execute_result"
    }
   ],
   "source": [
    "#MARRIAGE: Marital status (1=married, 2=single, 3=others)\n",
    "\n",
    "df['MARRIAGE']=df['MARRIAGE'].apply(lambda x: 0 if x ==3 else x)\n",
    "dummy_mar = pd.get_dummies(df['MARRIAGE'], drop_first=True)\n",
    "\n",
    "dummy_mar.describe()"
   ]
  },
  {
   "cell_type": "code",
   "execution_count": null,
   "metadata": {},
   "outputs": [],
   "source": []
  },
  {
   "cell_type": "code",
   "execution_count": null,
   "metadata": {},
   "outputs": [],
   "source": []
  },
  {
   "cell_type": "markdown",
   "metadata": {},
   "source": [
    "## 2. EDA"
   ]
  },
  {
   "cell_type": "code",
   "execution_count": null,
   "metadata": {},
   "outputs": [],
   "source": []
  },
  {
   "cell_type": "code",
   "execution_count": null,
   "metadata": {},
   "outputs": [],
   "source": []
  },
  {
   "cell_type": "code",
   "execution_count": null,
   "metadata": {},
   "outputs": [],
   "source": []
  },
  {
   "cell_type": "code",
   "execution_count": null,
   "metadata": {},
   "outputs": [],
   "source": []
  },
  {
   "cell_type": "code",
   "execution_count": null,
   "metadata": {},
   "outputs": [],
   "source": []
  },
  {
   "cell_type": "markdown",
   "metadata": {},
   "source": [
    "## 3. Feature Engineering"
   ]
  },
  {
   "cell_type": "code",
   "execution_count": null,
   "metadata": {},
   "outputs": [],
   "source": []
  },
  {
   "cell_type": "code",
   "execution_count": null,
   "metadata": {},
   "outputs": [],
   "source": []
  },
  {
   "cell_type": "code",
   "execution_count": null,
   "metadata": {},
   "outputs": [],
   "source": []
  },
  {
   "cell_type": "code",
   "execution_count": null,
   "metadata": {},
   "outputs": [],
   "source": []
  },
  {
   "cell_type": "code",
   "execution_count": null,
   "metadata": {},
   "outputs": [],
   "source": []
  },
  {
   "cell_type": "markdown",
   "metadata": {},
   "source": [
    "## 4. Feature Selection"
   ]
  },
  {
   "cell_type": "code",
   "execution_count": null,
   "metadata": {},
   "outputs": [],
   "source": []
  },
  {
   "cell_type": "code",
   "execution_count": null,
   "metadata": {},
   "outputs": [],
   "source": []
  },
  {
   "cell_type": "code",
   "execution_count": null,
   "metadata": {},
   "outputs": [],
   "source": []
  },
  {
   "cell_type": "code",
   "execution_count": null,
   "metadata": {},
   "outputs": [],
   "source": []
  },
  {
   "cell_type": "code",
   "execution_count": null,
   "metadata": {},
   "outputs": [],
   "source": []
  },
  {
   "cell_type": "markdown",
   "metadata": {},
   "source": [
    "## 5. Model Fitting and Hyperparameter Tuning\n",
    "KNN, Logistic Regression, Decision Tree"
   ]
  },
  {
   "cell_type": "code",
   "execution_count": null,
   "metadata": {},
   "outputs": [],
   "source": []
  },
  {
   "cell_type": "code",
   "execution_count": null,
   "metadata": {},
   "outputs": [],
   "source": []
  },
  {
   "cell_type": "code",
   "execution_count": null,
   "metadata": {},
   "outputs": [],
   "source": []
  },
  {
   "cell_type": "code",
   "execution_count": null,
   "metadata": {},
   "outputs": [],
   "source": []
  },
  {
   "cell_type": "code",
   "execution_count": null,
   "metadata": {},
   "outputs": [],
   "source": []
  },
  {
   "cell_type": "markdown",
   "metadata": {},
   "source": [
    "## 6. Model Evaluation"
   ]
  },
  {
   "cell_type": "code",
   "execution_count": null,
   "metadata": {},
   "outputs": [],
   "source": []
  },
  {
   "cell_type": "code",
   "execution_count": null,
   "metadata": {},
   "outputs": [],
   "source": []
  },
  {
   "cell_type": "code",
   "execution_count": null,
   "metadata": {},
   "outputs": [],
   "source": []
  },
  {
   "cell_type": "code",
   "execution_count": null,
   "metadata": {},
   "outputs": [],
   "source": []
  },
  {
   "cell_type": "code",
   "execution_count": null,
   "metadata": {},
   "outputs": [],
   "source": []
  },
  {
   "cell_type": "markdown",
   "metadata": {},
   "source": [
    "## 7. Final Model"
   ]
  },
  {
   "cell_type": "code",
   "execution_count": null,
   "metadata": {},
   "outputs": [],
   "source": []
  },
  {
   "cell_type": "code",
   "execution_count": null,
   "metadata": {},
   "outputs": [],
   "source": []
  }
 ],
 "metadata": {
  "kernelspec": {
   "display_name": "Python 3",
   "language": "python",
   "name": "python3"
  },
  "language_info": {
   "codemirror_mode": {
    "name": "ipython",
    "version": 3
   },
   "file_extension": ".py",
   "mimetype": "text/x-python",
   "name": "python",
   "nbconvert_exporter": "python",
   "pygments_lexer": "ipython3",
   "version": "3.7.4"
  },
  "toc": {
   "base_numbering": 1,
   "nav_menu": {},
   "number_sections": true,
   "sideBar": true,
   "skip_h1_title": false,
   "title_cell": "Table of Contents",
   "title_sidebar": "Contents",
   "toc_cell": false,
   "toc_position": {},
   "toc_section_display": true,
   "toc_window_display": false
  }
 },
 "nbformat": 4,
 "nbformat_minor": 2
}
