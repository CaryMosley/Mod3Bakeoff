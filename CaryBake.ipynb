{
 "cells": [
  {
   "cell_type": "markdown",
   "metadata": {},
   "source": [
    "# Applying Classification Modeling\n",
    "The goal of this week's assessment is to find the model which best predicts whether a person will default on their loan. In doing so, we want to utilize all of the different tools we have learned over the course: data cleaning, EDA, feature engineering/transformation, feature selection, hyperparameter tuning, and model evaluation. \n",
    "\n",
    "Dataset: The dataset comes customers default payments in Taiwan. More information about the dataset and columns are found in the link below.\n",
    "\n",
    "https://archive.ics.uci.edu/ml/datasets/default+of+credit+card+clients#\n",
    "\n",
    "\n",
    "You will fit three different models (KNN, Logistic Regression, and Decision Tree Classifier) and use gridsearch to find the best hyperparameters for those models. Then you will compare the performance of those three models on a test set to find the best one.  \n"
   ]
  },
  {
   "cell_type": "markdown",
   "metadata": {},
   "source": [
    "## Process/Expectations\n",
    "\n",
    "#### You will be working in pairs for this assessment; please have ONE notebook and be prepared to explain how you worked in your pair.\n",
    "1. Clean up your data set so that you can do EDA. This includes handling null values, categorical variables, removing unimportant columns, and removing outliers.\n",
    "2. Perform EDA to identify opportunities to create new features.\n",
    "    - [Great Example of EDA for classification](https://www.kaggle.com/stephaniestallworth/titanic-eda-classification-end-to-end) \n",
    "    - [Using Pairplots with Classification](https://towardsdatascience.com/visualizing-data-with-pair-plots-in-python-f228cf529166)\n",
    "3. Create polynomial and/or interaction features. You must also create at least 2 new features that are not interactions or polynomial transformations. For example, you can create a new dummy variable that based on the value of a continuous variable (billamount6 >2000) or take the average of some past amounts.\n",
    "4. Perform some feature selction. This can happen beforehand using F-scores, or you can do it as part of your model building process by looking at the weights of your regularized logistic regression or feature importance of your decision tree.  \n",
    "5. You must fit each of the three models to your data and tune at least 1 hyperparameter per model. \n",
    "6. After identifying the best hyperparameters for each model, fit those models to the test set and identify the best model overall using the evaluation metric of your choice.\n",
    "7. Present your best model."
   ]
  },
  {
   "cell_type": "code",
   "execution_count": 36,
   "metadata": {},
   "outputs": [],
   "source": [
    "# import libraries\n",
    "import numpy as np\n",
    "import pandas as pd\n",
    "import matplotlib.pyplot as plt\n",
    "%matplotlib inline\n",
    "import sklearn\n",
    "import seaborn as sns\n",
    "import warnings\n",
    "from sklearn.preprocessing import MinMaxScaler\n",
    "from sklearn.preprocessing import StandardScaler\n",
    "warnings.filterwarnings('once')\n"
   ]
  },
  {
   "cell_type": "markdown",
   "metadata": {},
   "source": [
    "## 1. Data Cleaning"
   ]
  },
  {
   "cell_type": "code",
   "execution_count": 2,
   "metadata": {},
   "outputs": [],
   "source": [
    "#read in the data\n",
    "df = pd.read_csv('student_data.csv')\n",
    "df.rename(columns={\"default payment next month\": \"default\"},inplace = True)"
   ]
  },
  {
   "cell_type": "code",
   "execution_count": 3,
   "metadata": {},
   "outputs": [
    {
     "data": {
      "text/plain": [
       "0    18691\n",
       "1     5308\n",
       "Name: default, dtype: int64"
      ]
     },
     "execution_count": 3,
     "metadata": {},
     "output_type": "execute_result"
    }
   ],
   "source": [
    "#checking the output, 78/22 split so I dont think we have to worry about a class imbalance\n",
    "df['default'].value_counts()"
   ]
  },
  {
   "cell_type": "code",
   "execution_count": 4,
   "metadata": {},
   "outputs": [
    {
     "data": {
      "text/plain": [
       "(23999, 25)"
      ]
     },
     "execution_count": 4,
     "metadata": {},
     "output_type": "execute_result"
    }
   ],
   "source": [
    "df.shape"
   ]
  },
  {
   "cell_type": "code",
   "execution_count": 5,
   "metadata": {},
   "outputs": [
    {
     "data": {
      "text/html": [
       "<div>\n",
       "<style scoped>\n",
       "    .dataframe tbody tr th:only-of-type {\n",
       "        vertical-align: middle;\n",
       "    }\n",
       "\n",
       "    .dataframe tbody tr th {\n",
       "        vertical-align: top;\n",
       "    }\n",
       "\n",
       "    .dataframe thead th {\n",
       "        text-align: right;\n",
       "    }\n",
       "</style>\n",
       "<table border=\"1\" class=\"dataframe\">\n",
       "  <thead>\n",
       "    <tr style=\"text-align: right;\">\n",
       "      <th></th>\n",
       "      <th>ID</th>\n",
       "      <th>LIMIT_BAL</th>\n",
       "      <th>SEX</th>\n",
       "      <th>EDUCATION</th>\n",
       "      <th>MARRIAGE</th>\n",
       "      <th>AGE</th>\n",
       "      <th>PAY_0</th>\n",
       "      <th>PAY_2</th>\n",
       "      <th>PAY_3</th>\n",
       "      <th>PAY_4</th>\n",
       "      <th>...</th>\n",
       "      <th>BILL_AMT4</th>\n",
       "      <th>BILL_AMT5</th>\n",
       "      <th>BILL_AMT6</th>\n",
       "      <th>PAY_AMT1</th>\n",
       "      <th>PAY_AMT2</th>\n",
       "      <th>PAY_AMT3</th>\n",
       "      <th>PAY_AMT4</th>\n",
       "      <th>PAY_AMT5</th>\n",
       "      <th>PAY_AMT6</th>\n",
       "      <th>default</th>\n",
       "    </tr>\n",
       "  </thead>\n",
       "  <tbody>\n",
       "    <tr>\n",
       "      <td>0</td>\n",
       "      <td>2873</td>\n",
       "      <td>350000</td>\n",
       "      <td>1</td>\n",
       "      <td>1</td>\n",
       "      <td>2</td>\n",
       "      <td>37</td>\n",
       "      <td>-2</td>\n",
       "      <td>-2</td>\n",
       "      <td>-2</td>\n",
       "      <td>-2</td>\n",
       "      <td>...</td>\n",
       "      <td>466</td>\n",
       "      <td>466</td>\n",
       "      <td>316</td>\n",
       "      <td>316</td>\n",
       "      <td>316</td>\n",
       "      <td>466</td>\n",
       "      <td>466</td>\n",
       "      <td>316</td>\n",
       "      <td>316</td>\n",
       "      <td>0</td>\n",
       "    </tr>\n",
       "    <tr>\n",
       "      <td>1</td>\n",
       "      <td>3598</td>\n",
       "      <td>50000</td>\n",
       "      <td>2</td>\n",
       "      <td>2</td>\n",
       "      <td>1</td>\n",
       "      <td>37</td>\n",
       "      <td>2</td>\n",
       "      <td>2</td>\n",
       "      <td>2</td>\n",
       "      <td>0</td>\n",
       "      <td>...</td>\n",
       "      <td>13026</td>\n",
       "      <td>13268</td>\n",
       "      <td>13497</td>\n",
       "      <td>5500</td>\n",
       "      <td>0</td>\n",
       "      <td>580</td>\n",
       "      <td>600</td>\n",
       "      <td>600</td>\n",
       "      <td>600</td>\n",
       "      <td>0</td>\n",
       "    </tr>\n",
       "    <tr>\n",
       "      <td>2</td>\n",
       "      <td>27623</td>\n",
       "      <td>50000</td>\n",
       "      <td>2</td>\n",
       "      <td>1</td>\n",
       "      <td>2</td>\n",
       "      <td>23</td>\n",
       "      <td>-1</td>\n",
       "      <td>-1</td>\n",
       "      <td>-1</td>\n",
       "      <td>-1</td>\n",
       "      <td>...</td>\n",
       "      <td>4800</td>\n",
       "      <td>9810</td>\n",
       "      <td>660</td>\n",
       "      <td>2548</td>\n",
       "      <td>2321</td>\n",
       "      <td>4800</td>\n",
       "      <td>9810</td>\n",
       "      <td>660</td>\n",
       "      <td>2980</td>\n",
       "      <td>0</td>\n",
       "    </tr>\n",
       "    <tr>\n",
       "      <td>3</td>\n",
       "      <td>6874</td>\n",
       "      <td>20000</td>\n",
       "      <td>1</td>\n",
       "      <td>3</td>\n",
       "      <td>1</td>\n",
       "      <td>56</td>\n",
       "      <td>0</td>\n",
       "      <td>0</td>\n",
       "      <td>0</td>\n",
       "      <td>0</td>\n",
       "      <td>...</td>\n",
       "      <td>13784</td>\n",
       "      <td>13420</td>\n",
       "      <td>13686</td>\n",
       "      <td>1508</td>\n",
       "      <td>1216</td>\n",
       "      <td>1116</td>\n",
       "      <td>0</td>\n",
       "      <td>490</td>\n",
       "      <td>658</td>\n",
       "      <td>0</td>\n",
       "    </tr>\n",
       "    <tr>\n",
       "      <td>4</td>\n",
       "      <td>6444</td>\n",
       "      <td>110000</td>\n",
       "      <td>2</td>\n",
       "      <td>2</td>\n",
       "      <td>2</td>\n",
       "      <td>32</td>\n",
       "      <td>0</td>\n",
       "      <td>0</td>\n",
       "      <td>0</td>\n",
       "      <td>0</td>\n",
       "      <td>...</td>\n",
       "      <td>108829</td>\n",
       "      <td>110557</td>\n",
       "      <td>106082</td>\n",
       "      <td>5400</td>\n",
       "      <td>5400</td>\n",
       "      <td>4100</td>\n",
       "      <td>4100</td>\n",
       "      <td>4100</td>\n",
       "      <td>4200</td>\n",
       "      <td>0</td>\n",
       "    </tr>\n",
       "  </tbody>\n",
       "</table>\n",
       "<p>5 rows × 25 columns</p>\n",
       "</div>"
      ],
      "text/plain": [
       "      ID  LIMIT_BAL  SEX  EDUCATION  MARRIAGE  AGE  PAY_0  PAY_2  PAY_3  \\\n",
       "0   2873     350000    1          1         2   37     -2     -2     -2   \n",
       "1   3598      50000    2          2         1   37      2      2      2   \n",
       "2  27623      50000    2          1         2   23     -1     -1     -1   \n",
       "3   6874      20000    1          3         1   56      0      0      0   \n",
       "4   6444     110000    2          2         2   32      0      0      0   \n",
       "\n",
       "   PAY_4  ...  BILL_AMT4  BILL_AMT5  BILL_AMT6  PAY_AMT1  PAY_AMT2  PAY_AMT3  \\\n",
       "0     -2  ...        466        466        316       316       316       466   \n",
       "1      0  ...      13026      13268      13497      5500         0       580   \n",
       "2     -1  ...       4800       9810        660      2548      2321      4800   \n",
       "3      0  ...      13784      13420      13686      1508      1216      1116   \n",
       "4      0  ...     108829     110557     106082      5400      5400      4100   \n",
       "\n",
       "   PAY_AMT4  PAY_AMT5  PAY_AMT6  default  \n",
       "0       466       316       316        0  \n",
       "1       600       600       600        0  \n",
       "2      9810       660      2980        0  \n",
       "3         0       490       658        0  \n",
       "4      4100      4100      4200        0  \n",
       "\n",
       "[5 rows x 25 columns]"
      ]
     },
     "execution_count": 5,
     "metadata": {},
     "output_type": "execute_result"
    }
   ],
   "source": [
    "df.head()"
   ]
  },
  {
   "cell_type": "code",
   "execution_count": 6,
   "metadata": {},
   "outputs": [
    {
     "data": {
      "text/plain": [
       "ID           0\n",
       "LIMIT_BAL    0\n",
       "SEX          0\n",
       "EDUCATION    0\n",
       "MARRIAGE     0\n",
       "AGE          0\n",
       "PAY_0        0\n",
       "PAY_2        0\n",
       "PAY_3        0\n",
       "PAY_4        0\n",
       "PAY_5        0\n",
       "PAY_6        0\n",
       "BILL_AMT1    0\n",
       "BILL_AMT2    0\n",
       "BILL_AMT3    0\n",
       "BILL_AMT4    0\n",
       "BILL_AMT5    0\n",
       "BILL_AMT6    0\n",
       "PAY_AMT1     0\n",
       "PAY_AMT2     0\n",
       "PAY_AMT3     0\n",
       "PAY_AMT4     0\n",
       "PAY_AMT5     0\n",
       "PAY_AMT6     0\n",
       "default      0\n",
       "dtype: int64"
      ]
     },
     "execution_count": 6,
     "metadata": {},
     "output_type": "execute_result"
    }
   ],
   "source": [
    "#No null values! Will look at the stats next\n",
    "df.isnull().sum()"
   ]
  },
  {
   "cell_type": "code",
   "execution_count": 93,
   "metadata": {},
   "outputs": [
    {
     "data": {
      "text/plain": [
       "LIMIT_BAL          int64\n",
       "SEX                int64\n",
       "EDUCATION          int64\n",
       "MARRIAGE           int64\n",
       "AGE                int64\n",
       "PAY_0              int64\n",
       "PAY_2              int64\n",
       "PAY_3              int64\n",
       "PAY_4              int64\n",
       "PAY_5              int64\n",
       "PAY_6              int64\n",
       "BILL_AMT1          int64\n",
       "BILL_AMT2          int64\n",
       "BILL_AMT3          int64\n",
       "BILL_AMT4          int64\n",
       "BILL_AMT5          int64\n",
       "BILL_AMT6          int64\n",
       "PAY_AMT1           int64\n",
       "PAY_AMT2           int64\n",
       "PAY_AMT3           int64\n",
       "PAY_AMT4           int64\n",
       "PAY_AMT5           int64\n",
       "PAY_AMT6           int64\n",
       "default            int64\n",
       "Past_Payment       int64\n",
       "Past_Payment0      int64\n",
       "Pay_Percent1     float64\n",
       "Pay_Percent2     float64\n",
       "Pay_Percent3     float64\n",
       "Pay_Percent4     float64\n",
       "Pay_Percent5     float64\n",
       "Pay_Percent6     float64\n",
       "Pay_Percent      float64\n",
       "Bill_Total         int64\n",
       "Pay_Total          int64\n",
       "dtype: object"
      ]
     },
     "execution_count": 93,
     "metadata": {},
     "output_type": "execute_result"
    }
   ],
   "source": [
    "df.dtypes"
   ]
  },
  {
   "cell_type": "code",
   "execution_count": 7,
   "metadata": {},
   "outputs": [],
   "source": [
    "#Dropping ID since we don't need to index them additionally\n",
    "df = df.drop(columns = ['ID'],axis=1)"
   ]
  },
  {
   "cell_type": "code",
   "execution_count": 8,
   "metadata": {},
   "outputs": [
    {
     "data": {
      "text/plain": [
       "2    14486\n",
       "1     9513\n",
       "Name: SEX, dtype: int64"
      ]
     },
     "execution_count": 8,
     "metadata": {},
     "output_type": "execute_result"
    }
   ],
   "source": [
    "#SEX: Gender (1=male, 2=female)\n",
    "df['SEX'].value_counts()\n"
   ]
  },
  {
   "cell_type": "code",
   "execution_count": 9,
   "metadata": {},
   "outputs": [
    {
     "data": {
      "text/plain": [
       "0    14486\n",
       "1     9513\n",
       "Name: SEX, dtype: int64"
      ]
     },
     "execution_count": 9,
     "metadata": {},
     "output_type": "execute_result"
    }
   ],
   "source": [
    "#SEX: 0 = female, 1 = male\n",
    "df['SEX']=df['SEX'].apply(lambda x: 0 if x ==2 else x)\n",
    "df['SEX'].value_counts()"
   ]
  },
  {
   "cell_type": "code",
   "execution_count": 10,
   "metadata": {},
   "outputs": [
    {
     "data": {
      "text/plain": [
       "2    11188\n",
       "1     8442\n",
       "3     3994\n",
       "5      223\n",
       "4      100\n",
       "6       41\n",
       "0       11\n",
       "Name: EDUCATION, dtype: int64"
      ]
     },
     "execution_count": 10,
     "metadata": {},
     "output_type": "execute_result"
    }
   ],
   "source": [
    "df['EDUCATION'].value_counts()"
   ]
  },
  {
   "cell_type": "code",
   "execution_count": 11,
   "metadata": {},
   "outputs": [
    {
     "data": {
      "text/plain": [
       "2    11188\n",
       "1     8442\n",
       "3     3994\n",
       "0      375\n",
       "Name: EDUCATION, dtype: int64"
      ]
     },
     "execution_count": 11,
     "metadata": {},
     "output_type": "execute_result"
    }
   ],
   "source": [
    "#Education (1 = graduate school; 2 = university; 3 = high school; 4 = others).\n",
    "#setting 0,4-6 to others\n",
    "df['EDUCATION']=df['EDUCATION'].apply(lambda x: 0 if x >=4 else x)\n",
    "\n",
    "df['EDUCATION'].value_counts()"
   ]
  },
  {
   "cell_type": "code",
   "execution_count": 12,
   "metadata": {},
   "outputs": [
    {
     "data": {
      "text/plain": [
       "2    12735\n",
       "1    10958\n",
       "3      263\n",
       "0       43\n",
       "Name: MARRIAGE, dtype: int64"
      ]
     },
     "execution_count": 12,
     "metadata": {},
     "output_type": "execute_result"
    }
   ],
   "source": [
    "df['MARRIAGE'].value_counts()"
   ]
  },
  {
   "cell_type": "code",
   "execution_count": 13,
   "metadata": {},
   "outputs": [
    {
     "data": {
      "text/plain": [
       "2    12735\n",
       "1    10958\n",
       "0      306\n",
       "Name: MARRIAGE, dtype: int64"
      ]
     },
     "execution_count": 13,
     "metadata": {},
     "output_type": "execute_result"
    }
   ],
   "source": [
    "#MARRIAGE: Marital status (1=married, 2=single, 3=others)\n",
    "\n",
    "df['MARRIAGE']=df['MARRIAGE'].apply(lambda x: 0 if x ==3 else x)\n",
    "df['MARRIAGE'].value_counts()"
   ]
  },
  {
   "cell_type": "code",
   "execution_count": 97,
   "metadata": {},
   "outputs": [
    {
     "name": "stdout",
     "output_type": "stream",
     "text": [
      "469\n",
      "537\n",
      "514\n",
      "525\n",
      "523\n",
      "549\n"
     ]
    }
   ],
   "source": []
  },
  {
   "cell_type": "code",
   "execution_count": null,
   "metadata": {},
   "outputs": [],
   "source": []
  },
  {
   "cell_type": "code",
   "execution_count": 14,
   "metadata": {},
   "outputs": [
    {
     "name": "stdout",
     "output_type": "stream",
     "text": [
      "Target Variable\n",
      "default\n",
      "0    18691\n",
      "1     5308\n",
      "Name: default, dtype: int64\n"
     ]
    },
    {
     "data": {
      "image/png": "[encoded data removed]",
      "text/plain": [
       "<Figure size 720x360 with 1 Axes>"
      ]
     },
     "metadata": {},
     "output_type": "display_data"
    }
   ],
   "source": [
    "# Default Count\n",
    "print('Target Variable')\n",
    "print(df.groupby(['default']).default.count())\n",
    "\n",
    "# Target Variable Countplot\n",
    "sns.set_style('darkgrid')\n",
    "plt.figure(figsize = (10,5))\n",
    "sns.countplot(df['default'], alpha =.80, palette= ['grey','lightgreen'])\n",
    "plt.title('Defaults vs Non-Defaults')\n",
    "plt.ylabel('# People')\n",
    "plt.show()"
   ]
  },
  {
   "cell_type": "code",
   "execution_count": 15,
   "metadata": {},
   "outputs": [
    {
     "name": "stdout",
     "output_type": "stream",
     "text": [
      "Continuous Variables\n",
      "             count           mean            std       min      25%       50%  \\\n",
      "LIMIT_BAL  23999.0  167825.729405  129915.115993   10000.0  50000.0  140000.0   \n",
      "AGE        23999.0      35.523230       9.253986      21.0     28.0      34.0   \n",
      "BILL_AMT1  23999.0   51589.034710   74104.132627 -165580.0   3577.5   22472.0   \n",
      "BILL_AMT2  23999.0   49521.698112   71551.215125  -67526.0   2958.0   21290.0   \n",
      "BILL_AMT3  23999.0   47474.826368   70010.815328 -157264.0   2718.0   20223.0   \n",
      "BILL_AMT4  23999.0   43796.589775   64927.450125 -170000.0   2392.5   19145.0   \n",
      "BILL_AMT5  23999.0   40748.049169   61257.537699  -81334.0   1801.0   18227.0   \n",
      "BILL_AMT6  23999.0   39226.852411   60075.536736 -339603.0   1280.0   17175.0   \n",
      "PAY_AMT1   23999.0    5687.720113   16698.506577       0.0   1000.0    2110.0   \n",
      "PAY_AMT2   23999.0    6019.571357   24541.362830       0.0    858.5    2012.0   \n",
      "PAY_AMT3   23999.0    5253.322805   17967.028860       0.0    395.0    1809.0   \n",
      "PAY_AMT4   23999.0    4824.490687   15730.753527       0.0    300.0    1500.0   \n",
      "PAY_AMT5   23999.0    4825.033793   15596.580167       0.0    269.5    1500.0   \n",
      "PAY_AMT6   23999.0    5245.642943   17795.775322       0.0    125.0    1500.0   \n",
      "\n",
      "                75%        max  \n",
      "LIMIT_BAL  240000.0  1000000.0  \n",
      "AGE            42.0       79.0  \n",
      "BILL_AMT1   67767.0   964511.0  \n",
      "BILL_AMT2   64635.5   983931.0  \n",
      "BILL_AMT3   60962.0  1664089.0  \n",
      "BILL_AMT4   55418.0   891586.0  \n",
      "BILL_AMT5   50581.0   927171.0  \n",
      "BILL_AMT6   49434.5   961664.0  \n",
      "PAY_AMT1     5020.0   873552.0  \n",
      "PAY_AMT2     5000.0  1684259.0  \n",
      "PAY_AMT3     4561.0   896040.0  \n",
      "PAY_AMT4     4089.0   621000.0  \n",
      "PAY_AMT5     4029.5   426529.0  \n",
      "PAY_AMT6     4008.0   528666.0  \n",
      "--------------------------------------------------------------------------------\n",
      "Discrete Variables\n",
      "SEX\n",
      "0    14486\n",
      "1     9513\n",
      "Name: SEX, dtype: int64\n",
      "EDUCATION\n",
      "0      375\n",
      "1     8442\n",
      "2    11188\n",
      "3     3994\n",
      "Name: EDUCATION, dtype: int64\n",
      "MARRIAGE\n",
      "0      306\n",
      "1    10958\n",
      "2    12735\n",
      "Name: MARRIAGE, dtype: int64\n"
     ]
    },
    {
     "data": {
      "image/png": "[encoded data removed]",
      "text/plain": [
       "<Figure size 1440x1152 with 4 Axes>"
      ]
     },
     "metadata": {},
     "output_type": "display_data"
    }
   ],
   "source": [
    "# Identify numeric features\n",
    "print('Continuous Variables')\n",
    "print(df[['LIMIT_BAL','AGE','BILL_AMT1','BILL_AMT2','BILL_AMT3','BILL_AMT4','BILL_AMT5','BILL_AMT6','PAY_AMT1'\n",
    "         ,'PAY_AMT2','PAY_AMT3','PAY_AMT4','PAY_AMT5','PAY_AMT6']].describe().transpose())\n",
    "print('--'*40)\n",
    "print('Discrete Variables')\n",
    "print(df.groupby('SEX').SEX.count())\n",
    "print(df.groupby('EDUCATION').EDUCATION.count())\n",
    "print(df.groupby('MARRIAGE').MARRIAGE.count())\n",
    "\n",
    "   \n",
    "# Subplots of Numeric Features\n",
    "sns.set_style('darkgrid')\n",
    "fig = plt.figure(figsize = (20,16))\n",
    "fig.subplots_adjust(hspace = .30)\n",
    "\n",
    "ax1 = fig.add_subplot(321)\n",
    "ax1.hist(df['SEX'], bins = 20, alpha = .50,edgecolor= 'black',color ='teal')\n",
    "ax1.set_xlabel('Sex', fontsize = 15)\n",
    "ax1.set_ylabel('# People',fontsize = 15)\n",
    "ax1.set_title('Sex',fontsize = 15)\n",
    "\n",
    "ax2 = fig.add_subplot(323)\n",
    "ax2.hist(df['EDUCATION'], bins = 20, alpha = .50,edgecolor= 'black',color ='teal')\n",
    "ax2.set_xlabel('Education',fontsize = 15)\n",
    "ax2.set_ylabel('# People',fontsize = 15)\n",
    "ax2.set_title('Education of People',fontsize = 15)\n",
    "\n",
    "ax3 = fig.add_subplot(325)\n",
    "ax3.hist(df['MARRIAGE'], bins = 20, alpha = .50,edgecolor= 'black',color ='teal')\n",
    "ax3.set_xlabel('Marriage',fontsize = 15)\n",
    "ax3.set_ylabel('# People',fontsize = 15)\n",
    "ax3.set_title('Marital Status',fontsize = 15)\n",
    "\n",
    "ax4 = fig.add_subplot(222)\n",
    "ax4.hist(df['AGE'], bins = 20, alpha = .50,edgecolor= 'black',color ='teal')\n",
    "ax4.set_xlabel('Age', fontsize = 15)\n",
    "ax4.set_ylabel('# People',fontsize = 15)\n",
    "ax4.set_title('Age',fontsize = 15)\n",
    "\n",
    "plt.show()"
   ]
  },
  {
   "cell_type": "code",
   "execution_count": 16,
   "metadata": {},
   "outputs": [
    {
     "data": {
      "image/png": "[encoded data removed]",
      "text/plain": [
       "<Figure size 1440x1152 with 6 Axes>"
      ]
     },
     "metadata": {},
     "output_type": "display_data"
    }
   ],
   "source": [
    "# Subplots of Numeric Features\n",
    "sns.set_style('darkgrid')\n",
    "fig = plt.figure(figsize = (20,16))\n",
    "fig.subplots_adjust(hspace = .30)\n",
    "\n",
    "ax1 = fig.add_subplot(321)\n",
    "ax1.hist(df['PAY_0'], bins = 20, alpha = .50,edgecolor= 'black',color ='teal')\n",
    "ax1.set_xlabel('Payment Status', fontsize = 15)\n",
    "ax1.set_ylabel('# People',fontsize = 15)\n",
    "ax1.set_title('Payment Status 0',fontsize = 15)\n",
    "\n",
    "ax2 = fig.add_subplot(323)\n",
    "ax2.hist(df['PAY_2'], bins = 20, alpha = .50,edgecolor= 'black',color ='teal')\n",
    "ax2.set_xlabel('Payment Status', fontsize = 15)\n",
    "ax2.set_ylabel('# People',fontsize = 15)\n",
    "ax2.set_title('Payment Status 2',fontsize = 15)\n",
    "\n",
    "ax3 = fig.add_subplot(325)\n",
    "ax3.hist(df['PAY_3'], bins = 20, alpha = .50,edgecolor= 'black',color ='teal')\n",
    "ax3.set_xlabel('Payment Status', fontsize = 15)\n",
    "ax3.set_ylabel('# People',fontsize = 15)\n",
    "ax3.set_title('Payment Status 3',fontsize = 15)\n",
    "\n",
    "ax4 = fig.add_subplot(322)\n",
    "ax4.hist(df['PAY_4'], bins = 20, alpha = .50,edgecolor= 'black',color ='teal')\n",
    "ax4.set_xlabel('Payment Status', fontsize = 15)\n",
    "ax4.set_ylabel('# People',fontsize = 15)\n",
    "ax4.set_title('Payment Status 4',fontsize = 15)\n",
    "\n",
    "ax5 = fig.add_subplot(324)\n",
    "ax5.hist(df['PAY_5'], bins = 20, alpha = .50,edgecolor= 'black',color ='teal')\n",
    "ax5.set_xlabel('Payment Status', fontsize = 15)\n",
    "ax5.set_ylabel('# People',fontsize = 15)\n",
    "ax5.set_title('Payment Status 5',fontsize = 15)\n",
    "\n",
    "ax6 = fig.add_subplot(326)\n",
    "ax6.hist(df['PAY_6'], bins = 20, alpha = .50,edgecolor= 'black',color ='teal')\n",
    "ax6.set_xlabel('Payment Status', fontsize = 15)\n",
    "ax6.set_ylabel('# People',fontsize = 15)\n",
    "ax6.set_title('Payment Status 6',fontsize = 15)\n",
    "\n",
    "plt.show()"
   ]
  },
  {
   "cell_type": "code",
   "execution_count": 17,
   "metadata": {},
   "outputs": [
    {
     "name": "stdout",
     "output_type": "stream",
     "text": [
      "Pay 0 Summary\n",
      "\n",
      "\n",
      "default      0     1\n",
      "PAY_0               \n",
      "-2        1901   279\n",
      "-1        3771   773\n",
      " 0       10294  1541\n",
      " 1        1966   976\n",
      " 2         659  1461\n",
      " 3          62   203\n",
      " 4          18    44\n",
      " 5          10    13\n",
      " 6           3     3\n",
      " 7           2     5\n",
      " 8           5    10\n"
     ]
    },
    {
     "data": {
      "image/png": "[encoded data removed]",
      "text/plain": [
       "<Figure size 432x288 with 1 Axes>"
      ]
     },
     "metadata": {},
     "output_type": "display_data"
    }
   ],
   "source": [
    "\n",
    "# Passenger class summary\n",
    "print('Pay 0 Summary')\n",
    "\n",
    "print('\\n')\n",
    "print(df.groupby(['PAY_0','default']).PAY_0.count().unstack())\n",
    "\n",
    "# Passenger class visualization\n",
    "pclass = df.groupby(['PAY_0','default']).PAY_0.count().unstack()\n",
    "p1 = pclass.plot(kind = 'bar', stacked = True, \n",
    "                   title = 'Defaults by Pay_0: Defaults vs Non-Default', \n",
    "                   color = ['grey','lightgreen'], alpha = .70)\n",
    "p1.set_xlabel('Pay_0')\n",
    "p1.set_ylabel('# People')\n",
    "p1.legend(['Did Not Default','Defaulted'])\n",
    "plt.show()"
   ]
  },
  {
   "cell_type": "code",
   "execution_count": 18,
   "metadata": {},
   "outputs": [
    {
     "name": "stdout",
     "output_type": "stream",
     "text": [
      "Pay 2 Summary\n",
      "\n",
      "\n",
      "default        0       1\n",
      "PAY_2                   \n",
      "-2        2471.0   535.0\n",
      "-1        4062.0   789.0\n",
      " 0       10590.0  2023.0\n",
      " 1          18.0     1.0\n",
      " 2        1400.0  1731.0\n",
      " 3          99.0   159.0\n",
      " 4          35.0    42.0\n",
      " 5           7.0    11.0\n",
      " 6           3.0     6.0\n",
      " 7           5.0    11.0\n",
      " 8           1.0     NaN\n"
     ]
    },
    {
     "data": {
      "image/png": "[encoded data removed]",
      "text/plain": [
       "<Figure size 432x288 with 1 Axes>"
      ]
     },
     "metadata": {},
     "output_type": "display_data"
    }
   ],
   "source": [
    "\n",
    "# Passenger class summary\n",
    "print('Pay 2 Summary')\n",
    "\n",
    "print('\\n')\n",
    "print(df.groupby(['PAY_2','default']).PAY_2.count().unstack())\n",
    "\n",
    "# Passenger class visualization\n",
    "pclass = df.groupby(['PAY_2','default']).PAY_2.count().unstack()\n",
    "p1 = pclass.plot(kind = 'bar', stacked = True, \n",
    "                   title = 'Defaults by Pay_0: Defaults vs Non-Default', \n",
    "                   color = ['grey','lightgreen'], alpha = .70)\n",
    "p1.set_xlabel('Pay_2')\n",
    "p1.set_ylabel('# People')\n",
    "p1.legend(['Did Not Default','Defaulted'])\n",
    "plt.show()"
   ]
  },
  {
   "cell_type": "code",
   "execution_count": 19,
   "metadata": {},
   "outputs": [
    {
     "name": "stdout",
     "output_type": "stream",
     "text": [
      "Pay 3 Summary\n",
      "\n",
      "\n",
      "default        0       1\n",
      "PAY_3                   \n",
      "-2        2659.0   587.0\n",
      "-1        4025.0   751.0\n",
      " 0       10397.0  2197.0\n",
      " 1           3.0     NaN\n",
      " 2        1488.0  1598.0\n",
      " 3          77.0   104.0\n",
      " 4          23.0    34.0\n",
      " 5           7.0     8.0\n",
      " 6           6.0    12.0\n",
      " 7           5.0    15.0\n",
      " 8           1.0     2.0\n"
     ]
    },
    {
     "data": {
      "image/png": "[encoded data removed]",
      "text/plain": [
       "<Figure size 432x288 with 1 Axes>"
      ]
     },
     "metadata": {},
     "output_type": "display_data"
    }
   ],
   "source": [
    "\n",
    "# Passenger class summary\n",
    "print('Pay 3 Summary')\n",
    "\n",
    "print('\\n')\n",
    "print(df.groupby(['PAY_3','default']).PAY_3.count().unstack())\n",
    "\n",
    "# Passenger class visualization\n",
    "pclass = df.groupby(['PAY_3','default']).PAY_3.count().unstack()\n",
    "p1 = pclass.plot(kind = 'bar', stacked = True, \n",
    "                   title = 'Defaults by Pay_0: Defaults vs Non-Default', \n",
    "                   color = ['grey','lightgreen'], alpha = .70)\n",
    "p1.set_xlabel('Pay_2')\n",
    "p1.set_ylabel('# People')\n",
    "p1.legend(['Did Not Default','Defaulted'])\n",
    "plt.show()"
   ]
  },
  {
   "cell_type": "code",
   "execution_count": 20,
   "metadata": {},
   "outputs": [
    {
     "name": "stdout",
     "output_type": "stream",
     "text": [
      "Pay 4 Summary\n",
      "\n",
      "\n",
      "default        0       1\n",
      "PAY_4                   \n",
      "-2        2801.0   652.0\n",
      "-1        3798.0   725.0\n",
      " 0       10791.0  2421.0\n",
      " 1           1.0     NaN\n",
      " 2        1205.0  1332.0\n",
      " 3          51.0    84.0\n",
      " 4          19.0    38.0\n",
      " 5          11.0    16.0\n",
      " 6           3.0     1.0\n",
      " 7          10.0    38.0\n",
      " 8           1.0     1.0\n"
     ]
    },
    {
     "data": {
      "image/png": "[encoded data removed]",
      "text/plain": [
       "<Figure size 432x288 with 1 Axes>"
      ]
     },
     "metadata": {},
     "output_type": "display_data"
    }
   ],
   "source": [
    "\n",
    "# Passenger class summary\n",
    "print('Pay 4 Summary')\n",
    "\n",
    "print('\\n')\n",
    "print(df.groupby(['PAY_4','default']).PAY_4.count().unstack())\n",
    "\n",
    "# Passenger class visualization\n",
    "pclass = df.groupby(['PAY_4','default']).PAY_4.count().unstack()\n",
    "p1 = pclass.plot(kind = 'bar', stacked = True, \n",
    "                   title = 'Defaults by Pay_0: Defaults vs Non-Default', \n",
    "                   color = ['grey','lightgreen'], alpha = .70)\n",
    "p1.set_xlabel('Pay_4')\n",
    "p1.set_ylabel('# People')\n",
    "p1.legend(['Did Not Default','Defaulted'])\n",
    "plt.show()"
   ]
  },
  {
   "cell_type": "code",
   "execution_count": 21,
   "metadata": {},
   "outputs": [
    {
     "name": "stdout",
     "output_type": "stream",
     "text": [
      "Pay 5 Summary\n",
      "\n",
      "\n",
      "default        0       1\n",
      "PAY_5                   \n",
      "-2        2915.0   702.0\n",
      "-1        3668.0   706.0\n",
      " 0       11038.0  2586.0\n",
      " 2         978.0  1136.0\n",
      " 3          50.0    88.0\n",
      " 4          24.0    42.0\n",
      " 5           7.0     8.0\n",
      " 6           1.0     2.0\n",
      " 7          10.0    37.0\n",
      " 8           NaN     1.0\n"
     ]
    },
    {
     "data": {
      "image/png": "[encoded data removed]",
      "text/plain": [
       "<Figure size 432x288 with 1 Axes>"
      ]
     },
     "metadata": {},
     "output_type": "display_data"
    }
   ],
   "source": [
    "\n",
    "# Passenger class summary\n",
    "print('Pay 5 Summary')\n",
    "\n",
    "print('\\n')\n",
    "print(df.groupby(['PAY_5','default']).PAY_5.count().unstack())\n",
    "\n",
    "# Passenger class visualization\n",
    "pclass = df.groupby(['PAY_5','default']).PAY_5.count().unstack()\n",
    "p1 = pclass.plot(kind = 'bar', stacked = True, \n",
    "                   title = 'Defaults by Pay_0: Defaults vs Non-Default', \n",
    "                   color = ['grey','lightgreen'], alpha = .70)\n",
    "p1.set_xlabel('Pay_5')\n",
    "p1.set_ylabel('# People')\n",
    "p1.legend(['Did Not Default','Defaulted'])\n",
    "plt.show()"
   ]
  },
  {
   "cell_type": "code",
   "execution_count": 22,
   "metadata": {},
   "outputs": [
    {
     "name": "stdout",
     "output_type": "stream",
     "text": [
      "Pay 6 Summary\n",
      "\n",
      "\n",
      "default        0       1\n",
      "PAY_6                   \n",
      "-2        3111.0   767.0\n",
      "-1        3774.0   786.0\n",
      " 0       10628.0  2468.0\n",
      " 2        1094.0  1117.0\n",
      " 3          49.0    97.0\n",
      " 4          16.0    26.0\n",
      " 5           6.0     5.0\n",
      " 6           5.0     9.0\n",
      " 7           8.0    31.0\n",
      " 8           NaN     2.0\n"
     ]
    },
    {
     "data": {
      "image/png": "[encoded data removed]",
      "text/plain": [
       "<Figure size 432x288 with 1 Axes>"
      ]
     },
     "metadata": {},
     "output_type": "display_data"
    }
   ],
   "source": [
    "\n",
    "# Passenger class summary\n",
    "print('Pay 6 Summary')\n",
    "\n",
    "print('\\n')\n",
    "print(df.groupby(['PAY_6','default']).PAY_6.count().unstack())\n",
    "\n",
    "# Passenger class visualization\n",
    "pclass = df.groupby(['PAY_6','default']).PAY_6.count().unstack()\n",
    "p1 = pclass.plot(kind = 'bar', stacked = True, \n",
    "                   title = 'Defaults by Pay_0: Defaults vs Non-Default', \n",
    "                   color = ['grey','lightgreen'], alpha = .70)\n",
    "p1.set_xlabel('Pay_6')\n",
    "p1.set_ylabel('# People')\n",
    "p1.legend(['Did Not Default','Defaulted'])\n",
    "plt.show()"
   ]
  },
  {
   "cell_type": "code",
   "execution_count": 23,
   "metadata": {},
   "outputs": [
    {
     "name": "stdout",
     "output_type": "stream",
     "text": [
      "Age Summary\n",
      "\n",
      "\n",
      "default       0      1\n",
      "AGE                   \n",
      "21         39.0   12.0\n",
      "22        325.0  142.0\n",
      "23        537.0  189.0\n",
      "24        657.0  232.0\n",
      "25        702.0  236.0\n",
      "26        797.0  208.0\n",
      "27        948.0  259.0\n",
      "28        911.0  229.0\n",
      "29       1024.0  255.0\n",
      "30        887.0  223.0\n",
      "31        784.0  196.0\n",
      "32        727.0  179.0\n",
      "33        744.0  160.0\n",
      "34        758.0  180.0\n",
      "35        716.0  176.0\n",
      "36        679.0  202.0\n",
      "37        647.0  175.0\n",
      "38        581.0  153.0\n",
      "39        611.0  159.0\n",
      "40        544.0  147.0\n",
      "41        505.0  151.0\n",
      "42        492.0  157.0\n",
      "43        412.0  119.0\n",
      "44        422.0  128.0\n",
      "45        398.0   91.0\n",
      "46        341.0  124.0\n",
      "47        317.0  101.0\n",
      "48        285.0   87.0\n",
      "49        260.0   90.0\n",
      "50        249.0   80.0\n",
      "51        208.0   75.0\n",
      "52        184.0   63.0\n",
      "53        210.0   61.0\n",
      "54        151.0   41.0\n",
      "55        125.0   47.0\n",
      "56        107.0   45.0\n",
      "57         75.0   24.0\n",
      "58         73.0   27.0\n",
      "59         54.0   15.0\n",
      "60         35.0   17.0\n",
      "61         32.0   18.0\n",
      "62         34.0    5.0\n",
      "63         18.0    5.0\n",
      "64         19.0    5.0\n",
      "65         17.0    NaN\n",
      "66         15.0    7.0\n",
      "67          9.0    3.0\n",
      "68          4.0    1.0\n",
      "69          9.0    3.0\n",
      "70          5.0    1.0\n",
      "71          2.0    NaN\n",
      "72          2.0    1.0\n",
      "73          NaN    3.0\n",
      "74          1.0    NaN\n",
      "75          2.0    1.0\n",
      "79          1.0    NaN\n"
     ]
    },
    {
     "data": {
      "image/png": "[encoded data removed]",
      "text/plain": [
       "<Figure size 432x288 with 1 Axes>"
      ]
     },
     "metadata": {},
     "output_type": "display_data"
    }
   ],
   "source": [
    "\n",
    "# Age summary\n",
    "print('Age Summary')\n",
    "\n",
    "print('\\n')\n",
    "print(df.groupby(['AGE','default']).AGE.count().unstack())\n",
    "\n",
    "# Age visualization\n",
    "pclass = df.groupby(['AGE','default']).AGE.count().unstack()\n",
    "p1 = pclass.plot(kind = 'bar', stacked = True, \n",
    "                   title = 'Defaults by Pay_0: Defaults vs Non-Default', \n",
    "                   color = ['grey','lightgreen'], alpha = .70)\n",
    "p1.set_xlabel('AGE')\n",
    "p1.set_ylabel('# People')\n",
    "p1.legend(['Did Not Default','Defaulted'])\n",
    "plt.show()"
   ]
  },
  {
   "cell_type": "code",
   "execution_count": 49,
   "metadata": {},
   "outputs": [
    {
     "data": {
      "text/plain": [
       "<matplotlib.axes._subplots.AxesSubplot at 0x1a1b039490>"
      ]
     },
     "execution_count": 49,
     "metadata": {},
     "output_type": "execute_result"
    },
    {
     "data": {
      "image/png": "[encoded data removed]",
      "text/plain": [
       "<Figure size 432x288 with 1 Axes>"
      ]
     },
     "metadata": {
      "needs_background": "light"
     },
     "output_type": "display_data"
    }
   ],
   "source": [
    "#%defeault by age\n",
    "\n",
    "test = df.groupby(['AGE','default']).AGE.count().unstack()[0]/(df.groupby(['AGE','default']).AGE.count().unstack()[0]+df.groupby(['AGE','default']).AGE.count().unstack()[1])\n",
    "test.dropna(inplace=True)\n",
    "test\n",
    "sns.barplot(test)"
   ]
  },
  {
   "cell_type": "code",
   "execution_count": 24,
   "metadata": {},
   "outputs": [
    {
     "name": "stdout",
     "output_type": "stream",
     "text": [
      "Education Summary\n",
      "\n",
      "\n",
      "default       0     1\n",
      "EDUCATION            \n",
      "0           351    24\n",
      "1          6826  1616\n",
      "2          8532  2656\n",
      "3          2982  1012\n"
     ]
    },
    {
     "data": {
      "image/png": "[encoded data removed]",
      "text/plain": [
       "<Figure size 432x288 with 1 Axes>"
      ]
     },
     "metadata": {},
     "output_type": "display_data"
    }
   ],
   "source": [
    "\n",
    "# Age summary\n",
    "print('Education Summary')\n",
    "\n",
    "print('\\n')\n",
    "print(df.groupby(['EDUCATION','default']).EDUCATION.count().unstack())\n",
    "\n",
    "# Passenger class visualization\n",
    "pclass = df.groupby(['EDUCATION','default']).EDUCATION.count().unstack()\n",
    "p1 = pclass.plot(kind = 'bar', stacked = True, \n",
    "                   title = 'Defaults by Pay_0: Defaults vs Non-Default', \n",
    "                   color = ['grey','lightgreen'], alpha = .70)\n",
    "p1.set_xlabel('EDUCATION')\n",
    "p1.set_ylabel('# People')\n",
    "p1.legend(['Did Not Default','Defaulted'])\n",
    "plt.show()"
   ]
  },
  {
   "cell_type": "code",
   "execution_count": 25,
   "metadata": {},
   "outputs": [
    {
     "name": "stdout",
     "output_type": "stream",
     "text": [
      "Marriage Summary\n",
      "\n",
      "\n",
      "default       0     1\n",
      "MARRIAGE             \n",
      "0           234    72\n",
      "1          8399  2559\n",
      "2         10058  2677\n"
     ]
    },
    {
     "data": {
      "image/png": "[encoded data removed]",
      "text/plain": [
       "<Figure size 432x288 with 1 Axes>"
      ]
     },
     "metadata": {},
     "output_type": "display_data"
    }
   ],
   "source": [
    "# Age summary\n",
    "print('Marriage Summary')\n",
    "\n",
    "print('\\n')\n",
    "print(df.groupby(['MARRIAGE','default']).MARRIAGE.count().unstack())\n",
    "\n",
    "# Passenger class visualization\n",
    "pclass = df.groupby(['MARRIAGE','default']).MARRIAGE.count().unstack()\n",
    "p1 = pclass.plot(kind = 'bar', stacked = True, \n",
    "                   title = 'Defaults by Pay_0: Defaults vs Non-Default', \n",
    "                   color = ['grey','lightgreen'], alpha = .70)\n",
    "p1.set_xlabel('MARRIAGE')\n",
    "p1.set_ylabel('# People')\n",
    "p1.legend(['Did Not Default','Defaulted'])\n",
    "plt.show()"
   ]
  },
  {
   "cell_type": "code",
   "execution_count": 33,
   "metadata": {},
   "outputs": [
    {
     "name": "stdout",
     "output_type": "stream",
     "text": [
      "Balance Summary\n",
      "\n",
      "\n",
      "default         0      1\n",
      "LIMIT_BAL               \n",
      "10000       238.0  157.0\n",
      "16000         2.0    NaN\n",
      "20000      1014.0  569.0\n",
      "30000       824.0  467.0\n",
      "40000        99.0   70.0\n",
      "...           ...    ...\n",
      "740000        1.0    1.0\n",
      "750000        3.0    NaN\n",
      "780000        1.0    NaN\n",
      "800000        2.0    NaN\n",
      "1000000       1.0    NaN\n",
      "\n",
      "[80 rows x 2 columns]\n"
     ]
    },
    {
     "data": {
      "image/png": "[encoded data removed]",
      "text/plain": [
       "<Figure size 432x288 with 1 Axes>"
      ]
     },
     "metadata": {},
     "output_type": "display_data"
    }
   ],
   "source": [
    "# Balance summary\n",
    "print('Balance Summary')\n",
    "\n",
    "print('\\n')\n",
    "print(df.groupby(['LIMIT_BAL','default']).LIMIT_BAL.count().unstack())\n",
    "\n",
    "# Default visualization\n",
    "pclass = df.groupby(['LIMIT_BAL','default']).LIMIT_BAL.count().unstack()\n",
    "p1 = pclass.plot(kind = 'bar', stacked = True, \n",
    "                   title = 'Defaults by Balance Limit: Defaults vs Non-Default', \n",
    "                   color = ['grey','lightgreen'], alpha = .70)\n",
    "p1.set_xlabel('Balance')\n",
    "p1.set_ylabel('# People')\n",
    "p1.legend(['Did Not Default','Defaulted'])\n",
    "plt.show()"
   ]
  },
  {
   "cell_type": "code",
   "execution_count": null,
   "metadata": {},
   "outputs": [],
   "source": []
  },
  {
   "cell_type": "code",
   "execution_count": null,
   "metadata": {},
   "outputs": [],
   "source": []
  },
  {
   "cell_type": "code",
   "execution_count": null,
   "metadata": {},
   "outputs": [],
   "source": []
  },
  {
   "cell_type": "code",
   "execution_count": 27,
   "metadata": {},
   "outputs": [
    {
     "data": {
      "text/html": [
       "<div>\n",
       "<style scoped>\n",
       "    .dataframe tbody tr th:only-of-type {\n",
       "        vertical-align: middle;\n",
       "    }\n",
       "\n",
       "    .dataframe tbody tr th {\n",
       "        vertical-align: top;\n",
       "    }\n",
       "\n",
       "    .dataframe thead th {\n",
       "        text-align: right;\n",
       "    }\n",
       "</style>\n",
       "<table border=\"1\" class=\"dataframe\">\n",
       "  <thead>\n",
       "    <tr style=\"text-align: right;\">\n",
       "      <th></th>\n",
       "      <th>LIMIT_BAL</th>\n",
       "      <th>SEX</th>\n",
       "      <th>EDUCATION</th>\n",
       "      <th>MARRIAGE</th>\n",
       "      <th>AGE</th>\n",
       "      <th>PAY_0</th>\n",
       "      <th>PAY_2</th>\n",
       "      <th>PAY_3</th>\n",
       "      <th>PAY_4</th>\n",
       "      <th>PAY_5</th>\n",
       "      <th>...</th>\n",
       "      <th>BILL_AMT4</th>\n",
       "      <th>BILL_AMT5</th>\n",
       "      <th>BILL_AMT6</th>\n",
       "      <th>PAY_AMT1</th>\n",
       "      <th>PAY_AMT2</th>\n",
       "      <th>PAY_AMT3</th>\n",
       "      <th>PAY_AMT4</th>\n",
       "      <th>PAY_AMT5</th>\n",
       "      <th>PAY_AMT6</th>\n",
       "      <th>default</th>\n",
       "    </tr>\n",
       "  </thead>\n",
       "  <tbody>\n",
       "    <tr>\n",
       "      <td>count</td>\n",
       "      <td>23999.000000</td>\n",
       "      <td>23999.000000</td>\n",
       "      <td>23999.000000</td>\n",
       "      <td>23999.000000</td>\n",
       "      <td>23999.000000</td>\n",
       "      <td>23999.000000</td>\n",
       "      <td>23999.000000</td>\n",
       "      <td>23999.000000</td>\n",
       "      <td>23999.000000</td>\n",
       "      <td>23999.000000</td>\n",
       "      <td>...</td>\n",
       "      <td>23999.000000</td>\n",
       "      <td>23999.000000</td>\n",
       "      <td>23999.000000</td>\n",
       "      <td>23999.000000</td>\n",
       "      <td>2.399900e+04</td>\n",
       "      <td>23999.000000</td>\n",
       "      <td>23999.000000</td>\n",
       "      <td>23999.000000</td>\n",
       "      <td>23999.000000</td>\n",
       "      <td>23999.000000</td>\n",
       "    </tr>\n",
       "    <tr>\n",
       "      <td>mean</td>\n",
       "      <td>167825.729405</td>\n",
       "      <td>0.396392</td>\n",
       "      <td>1.783408</td>\n",
       "      <td>1.517897</td>\n",
       "      <td>35.523230</td>\n",
       "      <td>-0.014959</td>\n",
       "      <td>-0.134839</td>\n",
       "      <td>-0.165632</td>\n",
       "      <td>-0.217092</td>\n",
       "      <td>-0.261344</td>\n",
       "      <td>...</td>\n",
       "      <td>43796.589775</td>\n",
       "      <td>40748.049169</td>\n",
       "      <td>39226.852411</td>\n",
       "      <td>5687.720113</td>\n",
       "      <td>6.019571e+03</td>\n",
       "      <td>5253.322805</td>\n",
       "      <td>4824.490687</td>\n",
       "      <td>4825.033793</td>\n",
       "      <td>5245.642943</td>\n",
       "      <td>0.221176</td>\n",
       "    </tr>\n",
       "    <tr>\n",
       "      <td>std</td>\n",
       "      <td>129915.115993</td>\n",
       "      <td>0.489158</td>\n",
       "      <td>0.730617</td>\n",
       "      <td>0.524588</td>\n",
       "      <td>9.253986</td>\n",
       "      <td>1.120903</td>\n",
       "      <td>1.193044</td>\n",
       "      <td>1.193515</td>\n",
       "      <td>1.168719</td>\n",
       "      <td>1.133016</td>\n",
       "      <td>...</td>\n",
       "      <td>64927.450125</td>\n",
       "      <td>61257.537699</td>\n",
       "      <td>60075.536736</td>\n",
       "      <td>16698.506577</td>\n",
       "      <td>2.454136e+04</td>\n",
       "      <td>17967.028860</td>\n",
       "      <td>15730.753527</td>\n",
       "      <td>15596.580167</td>\n",
       "      <td>17795.775322</td>\n",
       "      <td>0.415047</td>\n",
       "    </tr>\n",
       "    <tr>\n",
       "      <td>min</td>\n",
       "      <td>10000.000000</td>\n",
       "      <td>0.000000</td>\n",
       "      <td>0.000000</td>\n",
       "      <td>0.000000</td>\n",
       "      <td>21.000000</td>\n",
       "      <td>-2.000000</td>\n",
       "      <td>-2.000000</td>\n",
       "      <td>-2.000000</td>\n",
       "      <td>-2.000000</td>\n",
       "      <td>-2.000000</td>\n",
       "      <td>...</td>\n",
       "      <td>-170000.000000</td>\n",
       "      <td>-81334.000000</td>\n",
       "      <td>-339603.000000</td>\n",
       "      <td>0.000000</td>\n",
       "      <td>0.000000e+00</td>\n",
       "      <td>0.000000</td>\n",
       "      <td>0.000000</td>\n",
       "      <td>0.000000</td>\n",
       "      <td>0.000000</td>\n",
       "      <td>0.000000</td>\n",
       "    </tr>\n",
       "    <tr>\n",
       "      <td>25%</td>\n",
       "      <td>50000.000000</td>\n",
       "      <td>0.000000</td>\n",
       "      <td>1.000000</td>\n",
       "      <td>1.000000</td>\n",
       "      <td>28.000000</td>\n",
       "      <td>-1.000000</td>\n",
       "      <td>-1.000000</td>\n",
       "      <td>-1.000000</td>\n",
       "      <td>-1.000000</td>\n",
       "      <td>-1.000000</td>\n",
       "      <td>...</td>\n",
       "      <td>2392.500000</td>\n",
       "      <td>1801.000000</td>\n",
       "      <td>1280.000000</td>\n",
       "      <td>1000.000000</td>\n",
       "      <td>8.585000e+02</td>\n",
       "      <td>395.000000</td>\n",
       "      <td>300.000000</td>\n",
       "      <td>269.500000</td>\n",
       "      <td>125.000000</td>\n",
       "      <td>0.000000</td>\n",
       "    </tr>\n",
       "    <tr>\n",
       "      <td>50%</td>\n",
       "      <td>140000.000000</td>\n",
       "      <td>0.000000</td>\n",
       "      <td>2.000000</td>\n",
       "      <td>2.000000</td>\n",
       "      <td>34.000000</td>\n",
       "      <td>0.000000</td>\n",
       "      <td>0.000000</td>\n",
       "      <td>0.000000</td>\n",
       "      <td>0.000000</td>\n",
       "      <td>0.000000</td>\n",
       "      <td>...</td>\n",
       "      <td>19145.000000</td>\n",
       "      <td>18227.000000</td>\n",
       "      <td>17175.000000</td>\n",
       "      <td>2110.000000</td>\n",
       "      <td>2.012000e+03</td>\n",
       "      <td>1809.000000</td>\n",
       "      <td>1500.000000</td>\n",
       "      <td>1500.000000</td>\n",
       "      <td>1500.000000</td>\n",
       "      <td>0.000000</td>\n",
       "    </tr>\n",
       "    <tr>\n",
       "      <td>75%</td>\n",
       "      <td>240000.000000</td>\n",
       "      <td>1.000000</td>\n",
       "      <td>2.000000</td>\n",
       "      <td>2.000000</td>\n",
       "      <td>42.000000</td>\n",
       "      <td>0.000000</td>\n",
       "      <td>0.000000</td>\n",
       "      <td>0.000000</td>\n",
       "      <td>0.000000</td>\n",
       "      <td>0.000000</td>\n",
       "      <td>...</td>\n",
       "      <td>55418.000000</td>\n",
       "      <td>50581.000000</td>\n",
       "      <td>49434.500000</td>\n",
       "      <td>5020.000000</td>\n",
       "      <td>5.000000e+03</td>\n",
       "      <td>4561.000000</td>\n",
       "      <td>4089.000000</td>\n",
       "      <td>4029.500000</td>\n",
       "      <td>4008.000000</td>\n",
       "      <td>0.000000</td>\n",
       "    </tr>\n",
       "    <tr>\n",
       "      <td>max</td>\n",
       "      <td>1000000.000000</td>\n",
       "      <td>1.000000</td>\n",
       "      <td>3.000000</td>\n",
       "      <td>2.000000</td>\n",
       "      <td>79.000000</td>\n",
       "      <td>8.000000</td>\n",
       "      <td>8.000000</td>\n",
       "      <td>8.000000</td>\n",
       "      <td>8.000000</td>\n",
       "      <td>8.000000</td>\n",
       "      <td>...</td>\n",
       "      <td>891586.000000</td>\n",
       "      <td>927171.000000</td>\n",
       "      <td>961664.000000</td>\n",
       "      <td>873552.000000</td>\n",
       "      <td>1.684259e+06</td>\n",
       "      <td>896040.000000</td>\n",
       "      <td>621000.000000</td>\n",
       "      <td>426529.000000</td>\n",
       "      <td>528666.000000</td>\n",
       "      <td>1.000000</td>\n",
       "    </tr>\n",
       "  </tbody>\n",
       "</table>\n",
       "<p>8 rows × 24 columns</p>\n",
       "</div>"
      ],
      "text/plain": [
       "            LIMIT_BAL           SEX     EDUCATION      MARRIAGE           AGE  \\\n",
       "count    23999.000000  23999.000000  23999.000000  23999.000000  23999.000000   \n",
       "mean    167825.729405      0.396392      1.783408      1.517897     35.523230   \n",
       "std     129915.115993      0.489158      0.730617      0.524588      9.253986   \n",
       "min      10000.000000      0.000000      0.000000      0.000000     21.000000   \n",
       "25%      50000.000000      0.000000      1.000000      1.000000     28.000000   \n",
       "50%     140000.000000      0.000000      2.000000      2.000000     34.000000   \n",
       "75%     240000.000000      1.000000      2.000000      2.000000     42.000000   \n",
       "max    1000000.000000      1.000000      3.000000      2.000000     79.000000   \n",
       "\n",
       "              PAY_0         PAY_2         PAY_3         PAY_4         PAY_5  \\\n",
       "count  23999.000000  23999.000000  23999.000000  23999.000000  23999.000000   \n",
       "mean      -0.014959     -0.134839     -0.165632     -0.217092     -0.261344   \n",
       "std        1.120903      1.193044      1.193515      1.168719      1.133016   \n",
       "min       -2.000000     -2.000000     -2.000000     -2.000000     -2.000000   \n",
       "25%       -1.000000     -1.000000     -1.000000     -1.000000     -1.000000   \n",
       "50%        0.000000      0.000000      0.000000      0.000000      0.000000   \n",
       "75%        0.000000      0.000000      0.000000      0.000000      0.000000   \n",
       "max        8.000000      8.000000      8.000000      8.000000      8.000000   \n",
       "\n",
       "       ...      BILL_AMT4      BILL_AMT5      BILL_AMT6       PAY_AMT1  \\\n",
       "count  ...   23999.000000   23999.000000   23999.000000   23999.000000   \n",
       "mean   ...   43796.589775   40748.049169   39226.852411    5687.720113   \n",
       "std    ...   64927.450125   61257.537699   60075.536736   16698.506577   \n",
       "min    ... -170000.000000  -81334.000000 -339603.000000       0.000000   \n",
       "25%    ...    2392.500000    1801.000000    1280.000000    1000.000000   \n",
       "50%    ...   19145.000000   18227.000000   17175.000000    2110.000000   \n",
       "75%    ...   55418.000000   50581.000000   49434.500000    5020.000000   \n",
       "max    ...  891586.000000  927171.000000  961664.000000  873552.000000   \n",
       "\n",
       "           PAY_AMT2       PAY_AMT3       PAY_AMT4       PAY_AMT5  \\\n",
       "count  2.399900e+04   23999.000000   23999.000000   23999.000000   \n",
       "mean   6.019571e+03    5253.322805    4824.490687    4825.033793   \n",
       "std    2.454136e+04   17967.028860   15730.753527   15596.580167   \n",
       "min    0.000000e+00       0.000000       0.000000       0.000000   \n",
       "25%    8.585000e+02     395.000000     300.000000     269.500000   \n",
       "50%    2.012000e+03    1809.000000    1500.000000    1500.000000   \n",
       "75%    5.000000e+03    4561.000000    4089.000000    4029.500000   \n",
       "max    1.684259e+06  896040.000000  621000.000000  426529.000000   \n",
       "\n",
       "            PAY_AMT6       default  \n",
       "count   23999.000000  23999.000000  \n",
       "mean     5245.642943      0.221176  \n",
       "std     17795.775322      0.415047  \n",
       "min         0.000000      0.000000  \n",
       "25%       125.000000      0.000000  \n",
       "50%      1500.000000      0.000000  \n",
       "75%      4008.000000      0.000000  \n",
       "max    528666.000000      1.000000  \n",
       "\n",
       "[8 rows x 24 columns]"
      ]
     },
     "execution_count": 27,
     "metadata": {},
     "output_type": "execute_result"
    }
   ],
   "source": [
    "df.describe()"
   ]
  },
  {
   "cell_type": "code",
   "execution_count": 74,
   "metadata": {},
   "outputs": [
    {
     "data": {
      "text/plain": [
       "count    23999.000000\n",
       "mean        -1.079712\n",
       "std          5.886021\n",
       "min        -12.000000\n",
       "25%         -5.000000\n",
       "50%          0.000000\n",
       "75%          0.000000\n",
       "max         36.000000\n",
       "Name: Past_Payment, dtype: float64"
      ]
     },
     "execution_count": 74,
     "metadata": {},
     "output_type": "execute_result"
    }
   ],
   "source": []
  },
  {
   "cell_type": "code",
   "execution_count": 75,
   "metadata": {},
   "outputs": [],
   "source": []
  },
  {
   "cell_type": "code",
   "execution_count": 76,
   "metadata": {},
   "outputs": [
    {
     "data": {
      "text/plain": [
       "count    23999.000000\n",
       "mean         2.730322\n",
       "std          0.787080\n",
       "min          0.000000\n",
       "25%          3.000000\n",
       "50%          3.000000\n",
       "75%          3.000000\n",
       "max          3.000000\n",
       "Name: Past_Payment, dtype: float64"
      ]
     },
     "execution_count": 76,
     "metadata": {},
     "output_type": "execute_result"
    }
   ],
   "source": []
  },
  {
   "cell_type": "code",
   "execution_count": null,
   "metadata": {},
   "outputs": [],
   "source": []
  },
  {
   "cell_type": "code",
   "execution_count": null,
   "metadata": {},
   "outputs": [],
   "source": []
  },
  {
   "cell_type": "code",
   "execution_count": null,
   "metadata": {},
   "outputs": [],
   "source": []
  },
  {
   "cell_type": "code",
   "execution_count": 28,
   "metadata": {},
   "outputs": [],
   "source": [
    "\n",
    "#edu_dummies = pd.get_dummies(df['EDUCATION'], drop_first=True)\n",
    "#edu_dummies.describe()\n",
    "#df = df.drop(['EDUCATION'], axis=1)\n",
    "#df = pd.concat([df, edu_dummies], axis=1)\n",
    "\n",
    "#df.rename(columns={1: 'grad_school', 2: 'university', 3: 'highschool'},inplace=True)\n",
    "#df.head()"
   ]
  },
  {
   "cell_type": "code",
   "execution_count": null,
   "metadata": {},
   "outputs": [],
   "source": []
  },
  {
   "cell_type": "code",
   "execution_count": 29,
   "metadata": {},
   "outputs": [],
   "source": [
    "\n",
    "\n",
    "#marriage_dummies = pd.get_dummies(df['MARRIAGE'], drop_first=True)\n",
    "#marriage_dummies.describe()"
   ]
  },
  {
   "cell_type": "code",
   "execution_count": 30,
   "metadata": {},
   "outputs": [],
   "source": [
    "#df = df.drop(['MARRIAGE'], axis=1)\n",
    "#df = pd.concat([df, marriage_dummies], axis=1)"
   ]
  },
  {
   "cell_type": "code",
   "execution_count": 31,
   "metadata": {},
   "outputs": [],
   "source": [
    "#df.rename(columns={1: 'married', 2: 'single'},inplace=True)\n",
    "#df.head()"
   ]
  },
  {
   "cell_type": "code",
   "execution_count": 32,
   "metadata": {},
   "outputs": [
    {
     "data": {
      "text/plain": [
       " 0    11835\n",
       "-1     4544\n",
       " 1     2942\n",
       "-2     2180\n",
       " 2     2120\n",
       " 3      265\n",
       " 4       62\n",
       " 5       23\n",
       " 8       15\n",
       " 7        7\n",
       " 6        6\n",
       "Name: PAY_0, dtype: int64"
      ]
     },
     "execution_count": 32,
     "metadata": {},
     "output_type": "execute_result"
    }
   ],
   "source": [
    "\n",
    "#PAY_X: History of past payment. \n",
    "#X values (0 = repayment status in September, 1 = repayment status in August, . . .,6 = repayment status in April)\n",
    "#Repayment Status (-1 = pay duly, 1 = payment delay for one month, 2 = payment delay for two months, . . ., 8 = payment delay for eight months, 9 = payment delay for nine months and above) \n",
    "df['PAY_0'].value_counts()"
   ]
  },
  {
   "cell_type": "code",
   "execution_count": null,
   "metadata": {},
   "outputs": [],
   "source": []
  },
  {
   "cell_type": "code",
   "execution_count": null,
   "metadata": {},
   "outputs": [],
   "source": []
  },
  {
   "cell_type": "markdown",
   "metadata": {},
   "source": [
    "## 2. EDA"
   ]
  },
  {
   "cell_type": "code",
   "execution_count": null,
   "metadata": {},
   "outputs": [],
   "source": []
  },
  {
   "cell_type": "code",
   "execution_count": null,
   "metadata": {},
   "outputs": [],
   "source": []
  },
  {
   "cell_type": "code",
   "execution_count": null,
   "metadata": {},
   "outputs": [],
   "source": []
  },
  {
   "cell_type": "code",
   "execution_count": null,
   "metadata": {},
   "outputs": [],
   "source": []
  },
  {
   "cell_type": "code",
   "execution_count": null,
   "metadata": {},
   "outputs": [],
   "source": []
  },
  {
   "cell_type": "markdown",
   "metadata": {},
   "source": [
    "## 3. Feature Engineering"
   ]
  },
  {
   "cell_type": "code",
   "execution_count": null,
   "metadata": {},
   "outputs": [],
   "source": [
    "df['Past_Payment'] = df['PAY_0']+df['PAY_2']+df['PAY_3']+df['PAY_4']+df['PAY_5']+df['PAY_6']\n",
    "df['Past_Payment'].describe()"
   ]
  },
  {
   "cell_type": "code",
   "execution_count": null,
   "metadata": {},
   "outputs": [],
   "source": [
    "#Creating column for billpayment over past 6 months\n",
    "#0 if always on time\n",
    "#1 if only ever missed a bill by one month once\n",
    "#2 if misseed a total of 4 months(one month late 4 times or any combo)\n",
    "#3 missed any amount of more than 4 months\n",
    "\n",
    "df['Past_Payment']= df['Past_Payment'].apply(lambda x: 3 if x >=-7 else x)\n",
    "df['Past_Payment']= df['Past_Payment'].apply(lambda x: 2 if (x >=-10) & (x<=-8) else x)\n",
    "df['Past_Payment']= df['Past_Payment'].apply(lambda x: 1 if x ==-11 else x)\n",
    "df['Past_Payment']= df['Past_Payment'].apply(lambda x: 0 if x ==-12 else x)"
   ]
  },
  {
   "cell_type": "code",
   "execution_count": null,
   "metadata": {},
   "outputs": [],
   "source": [
    "df['Past_Payment'].describe()"
   ]
  },
  {
   "cell_type": "code",
   "execution_count": null,
   "metadata": {},
   "outputs": [],
   "source": [
    "#Convert Pay 0 values\n",
    "#0 if  on time\n",
    "#1 if  one month late\n",
    "#2 if 2 months or later "
   ]
  },
  {
   "cell_type": "code",
   "execution_count": 77,
   "metadata": {},
   "outputs": [
    {
     "data": {
      "text/plain": [
       "count    23999.000000\n",
       "mean         1.628985\n",
       "std          0.644247\n",
       "min          0.000000\n",
       "25%          1.000000\n",
       "50%          2.000000\n",
       "75%          2.000000\n",
       "max          2.000000\n",
       "Name: PAY_0, dtype: float64"
      ]
     },
     "execution_count": 77,
     "metadata": {},
     "output_type": "execute_result"
    }
   ],
   "source": [
    "df['PAY_0']= df['PAY_0'].apply(lambda x: 2 if x >=0 else x)\n",
    "df['PAY_0']= df['PAY_0'].apply(lambda x: 1 if x ==-1 else x)\n",
    "df['PAY_0']= df['PAY_0'].apply(lambda x: 0 if x ==-2 else x)\n",
    "df['PAY_0'].describe()"
   ]
  },
  {
   "cell_type": "code",
   "execution_count": 100,
   "metadata": {},
   "outputs": [
    {
     "name": "stdout",
     "output_type": "stream",
     "text": [
      "0\n",
      "0\n",
      "0\n",
      "0\n",
      "0\n",
      "0\n"
     ]
    },
    {
     "data": {
      "text/plain": [
       "count    2.330200e+04\n",
       "mean              inf\n",
       "std               NaN\n",
       "min      0.000000e+00\n",
       "25%      4.255107e-02\n",
       "50%      9.623395e-02\n",
       "75%      6.356840e-01\n",
       "max               inf\n",
       "Name: Pay_Percent, dtype: float64"
      ]
     },
     "execution_count": 100,
     "metadata": {},
     "output_type": "execute_result"
    }
   ],
   "source": [
    "#Negative bill amounts\n",
    "print(df['BILL_AMT1'][df['BILL_AMT1']<0].count())\n",
    "print(df['BILL_AMT2'][df['BILL_AMT2']<0].count())\n",
    "print(df['BILL_AMT3'][df['BILL_AMT3']<0].count())\n",
    "print(df['BILL_AMT4'][df['BILL_AMT4']<0].count())\n",
    "print(df['BILL_AMT5'][df['BILL_AMT5']<0].count())\n",
    "print(df['BILL_AMT6'][df['BILL_AMT6']<0].count())\n",
    "df['BILL_AMT1']= df['BILL_AMT1'].apply(lambda x: 0 if x <=0 else x)\n",
    "df['BILL_AMT2']= df['BILL_AMT2'].apply(lambda x: 0 if x <=0 else x)\n",
    "df['BILL_AMT3']= df['BILL_AMT3'].apply(lambda x: 0 if x <=0 else x)\n",
    "df['BILL_AMT4']= df['BILL_AMT4'].apply(lambda x: 0 if x <=0 else x)\n",
    "df['BILL_AMT5']= df['BILL_AMT5'].apply(lambda x: 0 if x <=0 else x)\n",
    "df['BILL_AMT6']= df['BILL_AMT6'].apply(lambda x: 0 if x <=0 else x)\n",
    "\n",
    "\n",
    "#First we tried to take the %paid each month and average this. However due to some people paying 0 \n",
    "#paying months together this metric created some errors. Now summing the total bill and total\n",
    "#payment amount\n",
    "df['Bill_Total']=(df['BILL_AMT1']+df['BILL_AMT2']+df['BILL_AMT3']+df['BILL_AMT4']+df['BILL_AMT5']+df['BILL_AMT6'])\n",
    "df['Pay_Total']=(df['PAY_AMT1']+df['PAY_AMT2']+df['PAY_AMT3']+df['PAY_AMT4']+df['PAY_AMT5']+df['PAY_AMT6'])\n",
    "df['Pay_Percent']=df['Pay_Total']/df['Bill_Total']\n",
    "df['Pay_Percent'].describe()"
   ]
  },
  {
   "cell_type": "code",
   "execution_count": 101,
   "metadata": {},
   "outputs": [
    {
     "data": {
      "text/plain": [
       "count    2.399900e+04\n",
       "mean     2.725978e+05\n",
       "std      3.823796e+05\n",
       "min      0.000000e+00\n",
       "25%      2.904700e+04\n",
       "50%      1.280180e+05\n",
       "75%      3.465025e+05\n",
       "max      5.263883e+06\n",
       "Name: Bill_Total, dtype: float64"
      ]
     },
     "execution_count": 101,
     "metadata": {},
     "output_type": "execute_result"
    }
   ],
   "source": [
    "df['Bill_Total'].describe()"
   ]
  },
  {
   "cell_type": "code",
   "execution_count": null,
   "metadata": {},
   "outputs": [],
   "source": []
  },
  {
   "cell_type": "code",
   "execution_count": null,
   "metadata": {},
   "outputs": [],
   "source": []
  },
  {
   "cell_type": "code",
   "execution_count": null,
   "metadata": {},
   "outputs": [],
   "source": []
  },
  {
   "cell_type": "markdown",
   "metadata": {},
   "source": [
    "## 4. Feature Selection"
   ]
  },
  {
   "cell_type": "code",
   "execution_count": null,
   "metadata": {},
   "outputs": [],
   "source": []
  },
  {
   "cell_type": "code",
   "execution_count": null,
   "metadata": {},
   "outputs": [],
   "source": []
  },
  {
   "cell_type": "code",
   "execution_count": null,
   "metadata": {},
   "outputs": [],
   "source": []
  },
  {
   "cell_type": "code",
   "execution_count": null,
   "metadata": {},
   "outputs": [],
   "source": []
  },
  {
   "cell_type": "code",
   "execution_count": null,
   "metadata": {},
   "outputs": [],
   "source": []
  },
  {
   "cell_type": "markdown",
   "metadata": {},
   "source": [
    "## 5. Model Fitting and Hyperparameter Tuning\n",
    "KNN, Logistic Regression, Decision Tree"
   ]
  },
  {
   "cell_type": "code",
   "execution_count": null,
   "metadata": {},
   "outputs": [],
   "source": []
  },
  {
   "cell_type": "code",
   "execution_count": null,
   "metadata": {},
   "outputs": [],
   "source": []
  },
  {
   "cell_type": "code",
   "execution_count": null,
   "metadata": {},
   "outputs": [],
   "source": []
  },
  {
   "cell_type": "code",
   "execution_count": null,
   "metadata": {},
   "outputs": [],
   "source": []
  },
  {
   "cell_type": "code",
   "execution_count": null,
   "metadata": {},
   "outputs": [],
   "source": []
  },
  {
   "cell_type": "markdown",
   "metadata": {},
   "source": [
    "## 6. Model Evaluation"
   ]
  },
  {
   "cell_type": "code",
   "execution_count": null,
   "metadata": {},
   "outputs": [],
   "source": []
  },
  {
   "cell_type": "code",
   "execution_count": null,
   "metadata": {},
   "outputs": [],
   "source": []
  },
  {
   "cell_type": "code",
   "execution_count": null,
   "metadata": {},
   "outputs": [],
   "source": []
  },
  {
   "cell_type": "code",
   "execution_count": null,
   "metadata": {},
   "outputs": [],
   "source": []
  },
  {
   "cell_type": "code",
   "execution_count": null,
   "metadata": {},
   "outputs": [],
   "source": []
  },
  {
   "cell_type": "markdown",
   "metadata": {},
   "source": [
    "## 7. Final Model"
   ]
  },
  {
   "cell_type": "code",
   "execution_count": null,
   "metadata": {},
   "outputs": [],
   "source": []
  },
  {
   "cell_type": "code",
   "execution_count": null,
   "metadata": {},
   "outputs": [],
   "source": []
  }
 ],
 "metadata": {
  "kernelspec": {
   "display_name": "Python 3",
   "language": "python",
   "name": "python3"
  },
  "language_info": {
   "codemirror_mode": {
    "name": "ipython",
    "version": 3
   },
   "file_extension": ".py",
   "mimetype": "text/x-python",
   "name": "python",
   "nbconvert_exporter": "python",
   "pygments_lexer": "ipython3",
   "version": "3.7.4"
  },
  "toc": {
   "base_numbering": 1,
   "nav_menu": {},
   "number_sections": true,
   "sideBar": true,
   "skip_h1_title": false,
   "title_cell": "Table of Contents",
   "title_sidebar": "Contents",
   "toc_cell": false,
   "toc_position": {},
   "toc_section_display": true,
   "toc_window_display": false
  }
 },
 "nbformat": 4,
 "nbformat_minor": 2
}
